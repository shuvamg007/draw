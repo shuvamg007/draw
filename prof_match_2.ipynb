{
  "nbformat": 4,
  "nbformat_minor": 0,
  "metadata": {
    "colab": {
      "name": "prof_match_2.ipynb",
      "version": "0.3.2",
      "provenance": [],
      "collapsed_sections": [],
      "include_colab_link": true
    },
    "kernelspec": {
      "name": "python3",
      "display_name": "Python 3"
    }
  },
  "cells": [
    {
      "cell_type": "markdown",
      "metadata": {
        "id": "view-in-github",
        "colab_type": "text"
      },
      "source": [
        "[View in Colaboratory](https://colab.research.google.com/github/shuvamg007/draw/blob/master/prof_match_2.ipynb)"
      ]
    },
    {
      "metadata": {
        "id": "zIvGsgT8Sn4p",
        "colab_type": "code",
        "colab": {
          "base_uri": "https://localhost:8080/",
          "height": 1426
        },
        "outputId": "6e2735ca-aca4-402c-d013-7e498453a06b"
      },
      "cell_type": "code",
      "source": [
        "# INIT (Colab only) \n",
        "\n",
        "!pip install gensim && wget https://s3-us-west-1.amazonaws.com/fasttext-vectors/wiki.en.zip && unzip wiki.en.zip\n",
        "!pip install clarifai"
      ],
      "execution_count": 1,
      "outputs": [
        {
          "output_type": "stream",
          "text": [
            "Collecting gensim\n",
            "\u001b[?25l  Downloading https://files.pythonhosted.org/packages/27/a4/d10c0acc8528d838cda5eede0ee9c784caa598dbf40bd0911ff8d067a7eb/gensim-3.6.0-cp36-cp36m-manylinux1_x86_64.whl (23.6MB)\n",
            "\u001b[K    100% |████████████████████████████████| 23.6MB 697kB/s \n",
            "\u001b[?25hRequirement already satisfied: six>=1.5.0 in /usr/local/lib/python3.6/dist-packages (from gensim) (1.11.0)\n",
            "Collecting smart-open>=1.2.1 (from gensim)\n",
            "  Downloading https://files.pythonhosted.org/packages/4b/1f/6f27e3682124de63ac97a0a5876da6186de6c19410feab66c1543afab055/smart_open-1.7.1.tar.gz\n",
            "Requirement already satisfied: numpy>=1.11.3 in /usr/local/lib/python3.6/dist-packages (from gensim) (1.14.6)\n",
            "Requirement already satisfied: scipy>=0.18.1 in /usr/local/lib/python3.6/dist-packages (from gensim) (0.19.1)\n",
            "Collecting boto>=2.32 (from smart-open>=1.2.1->gensim)\n",
            "\u001b[?25l  Downloading https://files.pythonhosted.org/packages/23/10/c0b78c27298029e4454a472a1919bde20cb182dab1662cec7f2ca1dcc523/boto-2.49.0-py2.py3-none-any.whl (1.4MB)\n",
            "\u001b[K    100% |████████████████████████████████| 1.4MB 14.7MB/s \n",
            "\u001b[?25hCollecting bz2file (from smart-open>=1.2.1->gensim)\n",
            "  Downloading https://files.pythonhosted.org/packages/61/39/122222b5e85cd41c391b68a99ee296584b2a2d1d233e7ee32b4532384f2d/bz2file-0.98.tar.gz\n",
            "Requirement already satisfied: requests in /usr/local/lib/python3.6/dist-packages (from smart-open>=1.2.1->gensim) (2.18.4)\n",
            "Collecting boto3 (from smart-open>=1.2.1->gensim)\n",
            "\u001b[?25l  Downloading https://files.pythonhosted.org/packages/67/0f/a44b1b69f0d2e9d24ea2c0b325cb8e0daadd0709d6e36e26b353dc433c41/boto3-1.9.24-py2.py3-none-any.whl (128kB)\n",
            "\u001b[K    100% |████████████████████████████████| 133kB 28.6MB/s \n",
            "\u001b[?25hRequirement already satisfied: certifi>=2017.4.17 in /usr/local/lib/python3.6/dist-packages (from requests->smart-open>=1.2.1->gensim) (2018.8.24)\n",
            "Requirement already satisfied: urllib3<1.23,>=1.21.1 in /usr/local/lib/python3.6/dist-packages (from requests->smart-open>=1.2.1->gensim) (1.22)\n",
            "Requirement already satisfied: idna<2.7,>=2.5 in /usr/local/lib/python3.6/dist-packages (from requests->smart-open>=1.2.1->gensim) (2.6)\n",
            "Requirement already satisfied: chardet<3.1.0,>=3.0.2 in /usr/local/lib/python3.6/dist-packages (from requests->smart-open>=1.2.1->gensim) (3.0.4)\n",
            "Collecting botocore<1.13.0,>=1.12.24 (from boto3->smart-open>=1.2.1->gensim)\n",
            "\u001b[?25l  Downloading https://files.pythonhosted.org/packages/f2/d5/87898cf85de64d62ae716cb2397cd3e58cdf3ba82847b0803bd2c4393f78/botocore-1.12.24-py2.py3-none-any.whl (4.7MB)\n",
            "\u001b[K    100% |████████████████████████████████| 4.7MB 6.8MB/s \n",
            "\u001b[?25hCollecting jmespath<1.0.0,>=0.7.1 (from boto3->smart-open>=1.2.1->gensim)\n",
            "  Downloading https://files.pythonhosted.org/packages/b7/31/05c8d001f7f87f0f07289a5fc0fc3832e9a57f2dbd4d3b0fee70e0d51365/jmespath-0.9.3-py2.py3-none-any.whl\n",
            "Collecting s3transfer<0.2.0,>=0.1.10 (from boto3->smart-open>=1.2.1->gensim)\n",
            "\u001b[?25l  Downloading https://files.pythonhosted.org/packages/d7/14/2a0004d487464d120c9fb85313a75cd3d71a7506955be458eebfe19a6b1d/s3transfer-0.1.13-py2.py3-none-any.whl (59kB)\n",
            "\u001b[K    100% |████████████████████████████████| 61kB 25.3MB/s \n",
            "\u001b[?25hRequirement already satisfied: python-dateutil<3.0.0,>=2.1; python_version >= \"2.7\" in /usr/local/lib/python3.6/dist-packages (from botocore<1.13.0,>=1.12.24->boto3->smart-open>=1.2.1->gensim) (2.5.3)\n",
            "Collecting docutils>=0.10 (from botocore<1.13.0,>=1.12.24->boto3->smart-open>=1.2.1->gensim)\n",
            "\u001b[?25l  Downloading https://files.pythonhosted.org/packages/36/fa/08e9e6e0e3cbd1d362c3bbee8d01d0aedb2155c4ac112b19ef3cae8eed8d/docutils-0.14-py3-none-any.whl (543kB)\n",
            "\u001b[K    100% |████████████████████████████████| 552kB 27.3MB/s \n",
            "\u001b[?25hBuilding wheels for collected packages: smart-open, bz2file\n",
            "  Running setup.py bdist_wheel for smart-open ... \u001b[?25l-\b \b\\\b \bdone\n",
            "\u001b[?25h  Stored in directory: /root/.cache/pip/wheels/23/00/44/e5b939f7a80c04e32297dbd6d96fa3065af89ecf57e2b5f89f\n",
            "  Running setup.py bdist_wheel for bz2file ... \u001b[?25l-\b \bdone\n",
            "\u001b[?25h  Stored in directory: /root/.cache/pip/wheels/81/75/d6/e1317bf09bf1af5a30befc2a007869fa6e1f516b8f7c591cb9\n",
            "Successfully built smart-open bz2file\n",
            "Installing collected packages: boto, bz2file, jmespath, docutils, botocore, s3transfer, boto3, smart-open, gensim\n",
            "Successfully installed boto-2.49.0 boto3-1.9.24 botocore-1.12.24 bz2file-0.98 docutils-0.14 gensim-3.6.0 jmespath-0.9.3 s3transfer-0.1.13 smart-open-1.7.1\n",
            "--2018-10-16 07:25:01--  https://s3-us-west-1.amazonaws.com/fasttext-vectors/wiki.en.zip\n",
            "Resolving s3-us-west-1.amazonaws.com (s3-us-west-1.amazonaws.com)... 52.219.20.37\n",
            "Connecting to s3-us-west-1.amazonaws.com (s3-us-west-1.amazonaws.com)|52.219.20.37|:443... connected.\n",
            "HTTP request sent, awaiting response... 200 OK\n",
            "Length: 10356881291 (9.6G) [application/zip]\n",
            "Saving to: ‘wiki.en.zip’\n",
            "\n",
            "wiki.en.zip         100%[===================>]   9.65G  37.0MB/s    in 6m 7s   \n",
            "\n",
            "2018-10-16 07:31:09 (26.9 MB/s) - ‘wiki.en.zip’ saved [10356881291/10356881291]\n",
            "\n",
            "Archive:  wiki.en.zip\n",
            "  inflating: wiki.en.vec             \n",
            "  inflating: wiki.en.bin             \n",
            "Collecting clarifai\n",
            "\u001b[?25l  Downloading https://files.pythonhosted.org/packages/3b/de/ea09dd834ffeb4e352953960156629842a34605248ba968f2138d77a76f4/clarifai-2.3.2.tar.gz (108kB)\n",
            "\u001b[K    100% |████████████████████████████████| 112kB 4.3MB/s \n",
            "\u001b[?25hRequirement already satisfied: future<2,>=0.15 in /usr/local/lib/python3.6/dist-packages (from clarifai) (0.16.0)\n",
            "Requirement already satisfied: requests<3,>=2.13 in /usr/local/lib/python3.6/dist-packages (from clarifai) (2.18.4)\n",
            "Collecting configparser<4,>=3.5 (from clarifai)\n",
            "  Downloading https://files.pythonhosted.org/packages/7c/69/c2ce7e91c89dc073eb1aa74c0621c3eefbffe8216b3f9af9d3885265c01c/configparser-3.5.0.tar.gz\n",
            "Requirement already satisfied: jsonschema<3,>=2.5 in /usr/local/lib/python3.6/dist-packages (from clarifai) (2.6.0)\n",
            "Requirement already satisfied: grpcio<2,>=1.13.0 in /usr/local/lib/python3.6/dist-packages (from clarifai) (1.15.0)\n",
            "Requirement already satisfied: protobuf<4,>=3.6 in /usr/local/lib/python3.6/dist-packages (from clarifai) (3.6.1)\n",
            "Requirement already satisfied: googleapis-common-protos<2,>=1.5.0 in /usr/local/lib/python3.6/dist-packages (from clarifai) (1.5.3)\n",
            "Requirement already satisfied: certifi>=2017.4.17 in /usr/local/lib/python3.6/dist-packages (from requests<3,>=2.13->clarifai) (2018.8.24)\n",
            "Requirement already satisfied: idna<2.7,>=2.5 in /usr/local/lib/python3.6/dist-packages (from requests<3,>=2.13->clarifai) (2.6)\n",
            "Requirement already satisfied: chardet<3.1.0,>=3.0.2 in /usr/local/lib/python3.6/dist-packages (from requests<3,>=2.13->clarifai) (3.0.4)\n",
            "Requirement already satisfied: urllib3<1.23,>=1.21.1 in /usr/local/lib/python3.6/dist-packages (from requests<3,>=2.13->clarifai) (1.22)\n",
            "Requirement already satisfied: six>=1.5.2 in /usr/local/lib/python3.6/dist-packages (from grpcio<2,>=1.13.0->clarifai) (1.11.0)\n",
            "Requirement already satisfied: setuptools in /usr/local/lib/python3.6/dist-packages (from protobuf<4,>=3.6->clarifai) (39.1.0)\n",
            "Building wheels for collected packages: clarifai, configparser\n",
            "  Running setup.py bdist_wheel for clarifai ... \u001b[?25l-\b \b\\\b \bdone\n",
            "\u001b[?25h  Stored in directory: /root/.cache/pip/wheels/b7/f9/3f/bf77ea39612b977f4211fd44ab7e62b6c4ee0aa2ce80562b99\n",
            "  Running setup.py bdist_wheel for configparser ... \u001b[?25l-\b \bdone\n",
            "\u001b[?25h  Stored in directory: /root/.cache/pip/wheels/a3/61/79/424ef897a2f3b14684a7de5d89e8600b460b89663e6ce9d17c\n",
            "Successfully built clarifai configparser\n",
            "Installing collected packages: configparser, clarifai\n",
            "Successfully installed clarifai-2.3.2 configparser-3.5.0\n"
          ],
          "name": "stdout"
        }
      ]
    },
    {
      "metadata": {
        "id": "DCDeExXHS_71",
        "colab_type": "code",
        "colab": {}
      },
      "cell_type": "code",
      "source": [
        "# Imports\n",
        "\n",
        "from gensim import models\n",
        "from pandas import DataFrame, read_csv\n",
        "import http.client, urllib.parse, json\n",
        "from clarifai.rest import ClarifaiApp\n",
        "import pandas as pd\n",
        "import os\n",
        "import csv\n",
        "import requests"
      ],
      "execution_count": 0,
      "outputs": []
    },
    {
      "metadata": {
        "id": "BlCEMq5mgBMT",
        "colab_type": "code",
        "colab": {}
      },
      "cell_type": "code",
      "source": [
        "# Load Fasttext\n",
        "\n",
        "model = models.KeyedVectors.load_word2vec_format('wiki.en.vec', limit=500000)"
      ],
      "execution_count": 0,
      "outputs": []
    },
    {
      "metadata": {
        "id": "xrUAJ7DdRdES",
        "colab_type": "code",
        "colab": {}
      },
      "cell_type": "code",
      "source": [
        "# test\n",
        "\n",
        "from google.colab import files\n",
        "\n",
        "def upload():\n",
        "    uploaded = files.upload()\n",
        " \n",
        "def download(path):\n",
        "    files.download(path)"
      ],
      "execution_count": 0,
      "outputs": []
    },
    {
      "metadata": {
        "id": "iRp78DH0i1F1",
        "colab_type": "code",
        "colab": {
          "resources": {
            "http://localhost:8080/nbextensions/google.colab/files.js": {
              "data": "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",
              "ok": true,
              "headers": [
                [
                  "content-type",
                  "application/javascript"
                ]
              ],
              "status": 200,
              "status_text": "OK"
            }
          },
          "base_uri": "https://localhost:8080/",
          "height": 81
        },
        "outputId": "a5f096bf-3e21-44ab-f663-cfa207d876d9"
      },
      "cell_type": "code",
      "source": [
        "upload()"
      ],
      "execution_count": 54,
      "outputs": [
        {
          "output_type": "display_data",
          "data": {
            "text/html": [
              "\n",
              "     <input type=\"file\" id=\"files-ce025fc7-65c9-464a-95b0-48f21c8e9adc\" name=\"files[]\" multiple disabled />\n",
              "     <output id=\"result-ce025fc7-65c9-464a-95b0-48f21c8e9adc\">\n",
              "      Upload widget is only available when the cell has been executed in the\n",
              "      current browser session. Please rerun this cell to enable.\n",
              "      </output>\n",
              "      <script src=\"/nbextensions/google.colab/files.js\"></script> "
            ],
            "text/plain": [
              "<IPython.core.display.HTML object>"
            ]
          },
          "metadata": {
            "tags": []
          }
        },
        {
          "output_type": "stream",
          "text": [
            "Saving advertisement.json to advertisement (1).json\n"
          ],
          "name": "stdout"
        }
      ]
    },
    {
      "metadata": {
        "id": "b51Lo_hqsAVR",
        "colab_type": "code",
        "colab": {
          "base_uri": "https://localhost:8080/",
          "height": 106
        },
        "outputId": "5a1cba29-310a-4d79-d84a-eaca1c9b3357"
      },
      "cell_type": "code",
      "source": [
        "# test\n",
        "\n",
        "print(model.most_similar('entertainment'))\n",
        "print(model.similarity('coke', 'caffeine'))"
      ],
      "execution_count": 6,
      "outputs": [
        {
          "output_type": "stream",
          "text": [
            "[('intertainment', 0.8752332925796509), ('entertainmentwise', 0.7589191198348999), ('entertainments', 0.7339411973953247), ('zintertainment', 0.7227294445037842), ('entertainment/wwe', 0.7135158777236938), ('entertainmentnow', 0.6949946284294128), ('entertainment/', 0.6818501949310303), ('tainment', 0.6627265214920044), ('edutainment', 0.6331461668014526), ('//entertainment', 0.6006413698196411)]\n",
            "0.3742156\n"
          ],
          "name": "stdout"
        },
        {
          "output_type": "stream",
          "text": [
            "/usr/local/lib/python3.6/dist-packages/gensim/matutils.py:737: FutureWarning: Conversion of the second argument of issubdtype from `int` to `np.signedinteger` is deprecated. In future, it will be treated as `np.int64 == np.dtype(int).type`.\n",
            "  if np.issubdtype(vec.dtype, np.int):\n"
          ],
          "name": "stderr"
        }
      ]
    },
    {
      "metadata": {
        "id": "gmo4jbHrCOca",
        "colab_type": "code",
        "colab": {
          "base_uri": "https://localhost:8080/",
          "height": 864
        },
        "outputId": "64a72fa9-9a42-4d70-9fb9-40d0aae2220d"
      },
      "cell_type": "code",
      "source": [
        "# test visualize\n",
        "\n",
        "from sklearn.manifold import TSNE\n",
        "from matplotlib import pylab\n",
        "\n",
        "words = [word for word in model.index2word[:1000]]\n",
        "embeddings = [model[word] for word in words]\n",
        "words_embedded = TSNE(n_components=2).fit_transform(embeddings)\n",
        "\n",
        "pylab.figure(figsize=(20, 20))\n",
        "for i, label in enumerate(words):\n",
        "  x, y = words_embedded[i, :]\n",
        "  pylab.scatter(x, y)\n",
        "  pylab.annotate(label, xy=(x, y), xytext=(5, 2), textcoords='offset points',\n",
        "                 ha='right', va='bottom')\n",
        "pylab.show()"
      ],
      "execution_count": 8,
      "outputs": [
        {
          "output_type": "error",
          "ename": "KeyboardInterrupt",
          "evalue": "ignored",
          "traceback": [
            "\u001b[0;31m---------------------------------------------------------------------------\u001b[0m",
            "\u001b[0;31mKeyboardInterrupt\u001b[0m                         Traceback (most recent call last)",
            "\u001b[0;32m<ipython-input-8-888bdd1876f8>\u001b[0m in \u001b[0;36m<module>\u001b[0;34m()\u001b[0m\n\u001b[1;32m      5\u001b[0m \u001b[0mwords\u001b[0m \u001b[0;34m=\u001b[0m \u001b[0;34m[\u001b[0m\u001b[0mword\u001b[0m \u001b[0;32mfor\u001b[0m \u001b[0mword\u001b[0m \u001b[0;32min\u001b[0m \u001b[0mmodel\u001b[0m\u001b[0;34m.\u001b[0m\u001b[0mindex2word\u001b[0m\u001b[0;34m[\u001b[0m\u001b[0;34m:\u001b[0m\u001b[0;36m1000\u001b[0m\u001b[0;34m]\u001b[0m\u001b[0;34m]\u001b[0m\u001b[0;34m\u001b[0m\u001b[0m\n\u001b[1;32m      6\u001b[0m \u001b[0membeddings\u001b[0m \u001b[0;34m=\u001b[0m \u001b[0;34m[\u001b[0m\u001b[0mmodel\u001b[0m\u001b[0;34m[\u001b[0m\u001b[0mword\u001b[0m\u001b[0;34m]\u001b[0m \u001b[0;32mfor\u001b[0m \u001b[0mword\u001b[0m \u001b[0;32min\u001b[0m \u001b[0mwords\u001b[0m\u001b[0;34m]\u001b[0m\u001b[0;34m\u001b[0m\u001b[0m\n\u001b[0;32m----> 7\u001b[0;31m \u001b[0mwords_embedded\u001b[0m \u001b[0;34m=\u001b[0m \u001b[0mTSNE\u001b[0m\u001b[0;34m(\u001b[0m\u001b[0mn_components\u001b[0m\u001b[0;34m=\u001b[0m\u001b[0;36m2\u001b[0m\u001b[0;34m)\u001b[0m\u001b[0;34m.\u001b[0m\u001b[0mfit_transform\u001b[0m\u001b[0;34m(\u001b[0m\u001b[0membeddings\u001b[0m\u001b[0;34m)\u001b[0m\u001b[0;34m\u001b[0m\u001b[0m\n\u001b[0m\u001b[1;32m      8\u001b[0m \u001b[0;34m\u001b[0m\u001b[0m\n\u001b[1;32m      9\u001b[0m \u001b[0mpylab\u001b[0m\u001b[0;34m.\u001b[0m\u001b[0mfigure\u001b[0m\u001b[0;34m(\u001b[0m\u001b[0mfigsize\u001b[0m\u001b[0;34m=\u001b[0m\u001b[0;34m(\u001b[0m\u001b[0;36m20\u001b[0m\u001b[0;34m,\u001b[0m \u001b[0;36m20\u001b[0m\u001b[0;34m)\u001b[0m\u001b[0;34m)\u001b[0m\u001b[0;34m\u001b[0m\u001b[0m\n",
            "\u001b[0;32m/usr/local/lib/python3.6/dist-packages/sklearn/manifold/t_sne.py\u001b[0m in \u001b[0;36mfit_transform\u001b[0;34m(self, X, y)\u001b[0m\n\u001b[1;32m    856\u001b[0m             \u001b[0mEmbedding\u001b[0m \u001b[0mof\u001b[0m \u001b[0mthe\u001b[0m \u001b[0mtraining\u001b[0m \u001b[0mdata\u001b[0m \u001b[0;32min\u001b[0m \u001b[0mlow\u001b[0m\u001b[0;34m-\u001b[0m\u001b[0mdimensional\u001b[0m \u001b[0mspace\u001b[0m\u001b[0;34m.\u001b[0m\u001b[0;34m\u001b[0m\u001b[0m\n\u001b[1;32m    857\u001b[0m         \"\"\"\n\u001b[0;32m--> 858\u001b[0;31m         \u001b[0membedding\u001b[0m \u001b[0;34m=\u001b[0m \u001b[0mself\u001b[0m\u001b[0;34m.\u001b[0m\u001b[0m_fit\u001b[0m\u001b[0;34m(\u001b[0m\u001b[0mX\u001b[0m\u001b[0;34m)\u001b[0m\u001b[0;34m\u001b[0m\u001b[0m\n\u001b[0m\u001b[1;32m    859\u001b[0m         \u001b[0mself\u001b[0m\u001b[0;34m.\u001b[0m\u001b[0membedding_\u001b[0m \u001b[0;34m=\u001b[0m \u001b[0membedding\u001b[0m\u001b[0;34m\u001b[0m\u001b[0m\n\u001b[1;32m    860\u001b[0m         \u001b[0;32mreturn\u001b[0m \u001b[0mself\u001b[0m\u001b[0;34m.\u001b[0m\u001b[0membedding_\u001b[0m\u001b[0;34m\u001b[0m\u001b[0m\n",
            "\u001b[0;32m/usr/local/lib/python3.6/dist-packages/sklearn/manifold/t_sne.py\u001b[0m in \u001b[0;36m_fit\u001b[0;34m(self, X, skip_num_points)\u001b[0m\n\u001b[1;32m    768\u001b[0m                           \u001b[0mX_embedded\u001b[0m\u001b[0;34m=\u001b[0m\u001b[0mX_embedded\u001b[0m\u001b[0;34m,\u001b[0m\u001b[0;34m\u001b[0m\u001b[0m\n\u001b[1;32m    769\u001b[0m                           \u001b[0mneighbors\u001b[0m\u001b[0;34m=\u001b[0m\u001b[0mneighbors_nn\u001b[0m\u001b[0;34m,\u001b[0m\u001b[0;34m\u001b[0m\u001b[0m\n\u001b[0;32m--> 770\u001b[0;31m                           skip_num_points=skip_num_points)\n\u001b[0m\u001b[1;32m    771\u001b[0m \u001b[0;34m\u001b[0m\u001b[0m\n\u001b[1;32m    772\u001b[0m     \u001b[0;34m@\u001b[0m\u001b[0mproperty\u001b[0m\u001b[0;34m\u001b[0m\u001b[0m\n",
            "\u001b[0;32m/usr/local/lib/python3.6/dist-packages/sklearn/manifold/t_sne.py\u001b[0m in \u001b[0;36m_tsne\u001b[0;34m(self, P, degrees_of_freedom, n_samples, X_embedded, neighbors, skip_num_points)\u001b[0m\n\u001b[1;32m    810\u001b[0m         \u001b[0mP\u001b[0m \u001b[0;34m*=\u001b[0m \u001b[0mself\u001b[0m\u001b[0;34m.\u001b[0m\u001b[0mearly_exaggeration\u001b[0m\u001b[0;34m\u001b[0m\u001b[0m\n\u001b[1;32m    811\u001b[0m         params, kl_divergence, it = _gradient_descent(obj_func, params,\n\u001b[0;32m--> 812\u001b[0;31m                                                       **opt_args)\n\u001b[0m\u001b[1;32m    813\u001b[0m         \u001b[0;32mif\u001b[0m \u001b[0mself\u001b[0m\u001b[0;34m.\u001b[0m\u001b[0mverbose\u001b[0m\u001b[0;34m:\u001b[0m\u001b[0;34m\u001b[0m\u001b[0m\n\u001b[1;32m    814\u001b[0m             print(\"[t-SNE] KL divergence after %d iterations with early \"\n",
            "\u001b[0;32m/usr/local/lib/python3.6/dist-packages/sklearn/manifold/t_sne.py\u001b[0m in \u001b[0;36m_gradient_descent\u001b[0;34m(objective, p0, it, n_iter, n_iter_check, n_iter_without_progress, momentum, learning_rate, min_gain, min_grad_norm, verbose, args, kwargs)\u001b[0m\n\u001b[1;32m    337\u001b[0m     \u001b[0mtic\u001b[0m \u001b[0;34m=\u001b[0m \u001b[0mtime\u001b[0m\u001b[0;34m(\u001b[0m\u001b[0;34m)\u001b[0m\u001b[0;34m\u001b[0m\u001b[0m\n\u001b[1;32m    338\u001b[0m     \u001b[0;32mfor\u001b[0m \u001b[0mi\u001b[0m \u001b[0;32min\u001b[0m \u001b[0mrange\u001b[0m\u001b[0;34m(\u001b[0m\u001b[0mit\u001b[0m\u001b[0;34m,\u001b[0m \u001b[0mn_iter\u001b[0m\u001b[0;34m)\u001b[0m\u001b[0;34m:\u001b[0m\u001b[0;34m\u001b[0m\u001b[0m\n\u001b[0;32m--> 339\u001b[0;31m         \u001b[0merror\u001b[0m\u001b[0;34m,\u001b[0m \u001b[0mgrad\u001b[0m \u001b[0;34m=\u001b[0m \u001b[0mobjective\u001b[0m\u001b[0;34m(\u001b[0m\u001b[0mp\u001b[0m\u001b[0;34m,\u001b[0m \u001b[0;34m*\u001b[0m\u001b[0margs\u001b[0m\u001b[0;34m,\u001b[0m \u001b[0;34m**\u001b[0m\u001b[0mkwargs\u001b[0m\u001b[0;34m)\u001b[0m\u001b[0;34m\u001b[0m\u001b[0m\n\u001b[0m\u001b[1;32m    340\u001b[0m         \u001b[0mgrad_norm\u001b[0m \u001b[0;34m=\u001b[0m \u001b[0mlinalg\u001b[0m\u001b[0;34m.\u001b[0m\u001b[0mnorm\u001b[0m\u001b[0;34m(\u001b[0m\u001b[0mgrad\u001b[0m\u001b[0;34m)\u001b[0m\u001b[0;34m\u001b[0m\u001b[0m\n\u001b[1;32m    341\u001b[0m \u001b[0;34m\u001b[0m\u001b[0m\n",
            "\u001b[0;32m/usr/local/lib/python3.6/dist-packages/sklearn/manifold/t_sne.py\u001b[0m in \u001b[0;36m_kl_divergence_bh\u001b[0;34m(params, P, degrees_of_freedom, n_samples, n_components, angle, skip_num_points, verbose)\u001b[0m\n\u001b[1;32m    245\u001b[0m     error = _barnes_hut_tsne.gradient(val_P, X_embedded, neighbors, indptr,\n\u001b[1;32m    246\u001b[0m                                       \u001b[0mgrad\u001b[0m\u001b[0;34m,\u001b[0m \u001b[0mangle\u001b[0m\u001b[0;34m,\u001b[0m \u001b[0mn_components\u001b[0m\u001b[0;34m,\u001b[0m \u001b[0mverbose\u001b[0m\u001b[0;34m,\u001b[0m\u001b[0;34m\u001b[0m\u001b[0m\n\u001b[0;32m--> 247\u001b[0;31m                                       dof=degrees_of_freedom)\n\u001b[0m\u001b[1;32m    248\u001b[0m     \u001b[0mc\u001b[0m \u001b[0;34m=\u001b[0m \u001b[0;36m2.0\u001b[0m \u001b[0;34m*\u001b[0m \u001b[0;34m(\u001b[0m\u001b[0mdegrees_of_freedom\u001b[0m \u001b[0;34m+\u001b[0m \u001b[0;36m1.0\u001b[0m\u001b[0;34m)\u001b[0m \u001b[0;34m/\u001b[0m \u001b[0mdegrees_of_freedom\u001b[0m\u001b[0;34m\u001b[0m\u001b[0m\n\u001b[1;32m    249\u001b[0m     \u001b[0mgrad\u001b[0m \u001b[0;34m=\u001b[0m \u001b[0mgrad\u001b[0m\u001b[0;34m.\u001b[0m\u001b[0mravel\u001b[0m\u001b[0;34m(\u001b[0m\u001b[0;34m)\u001b[0m\u001b[0;34m\u001b[0m\u001b[0m\n",
            "\u001b[0;31mKeyboardInterrupt\u001b[0m: "
          ]
        }
      ]
    },
    {
      "metadata": {
        "id": "2Ubsj5sWWDWU",
        "colab_type": "code",
        "colab": {}
      },
      "cell_type": "code",
      "source": [
        "# caption analyzer\n",
        "\n",
        "def caption_filter(caption, result):\n",
        "  text_analytics_base_url = \"https://westcentralus.api.cognitive.microsoft.com/text/analytics/v2.0/\"\n",
        "  subscription_key = \"77708ea602414c869e56865d03e42b90\"\n",
        "  headers   = {\"Ocp-Apim-Subscription-Key\": subscription_key}\n",
        "  sentiment_api_url = text_analytics_base_url + \"sentiment\"\n",
        "  key_phrase_api_url = text_analytics_base_url + \"keyPhrases\"\n",
        "\n",
        "  # spell check\n",
        "  url_spell = \"https://api.cognitive.microsoft.com/bing/v7.0/spellcheck\"\n",
        "  payload = \"mode=proof&mkt=en-US&text=\"\n",
        "  headers_spell = {\n",
        "      'ocp-apim-subscription-key': \"968f4f044b284badaa0c8aba079c3ac1\",\n",
        "      'content-type': \"application/x-www-form-urlencoded\"\n",
        "      }\n",
        "\n",
        "\n",
        "  try:          \n",
        "    if len(caption) > 0:\n",
        "      response = requests.post(url_spell, data=payload+caption, headers=headers_spell)\n",
        "      corrections = response.json()[\"flaggedTokens\"]\n",
        "      for correction in corrections:\n",
        "        try:\n",
        "          incorrect = correction[\"token\"]\n",
        "          correct = correction[\"suggestions\"][0][\"suggestion\"]\n",
        "          caption.replace(incorrect, correct)\n",
        "        except:\n",
        "          continue\n",
        "          \n",
        "      print(\"Caption - \" + caption)\n",
        "      documents = { 'documents': [{ 'id': '1', 'text': caption }] }\n",
        "\n",
        "      # not being considered\n",
        "      response  = requests.post(sentiment_api_url, headers=headers, json=documents)\n",
        "      sentiments = response.json()\n",
        "      print(\"Sentiment - \" + str(sentiments['documents'][0]['score']))\n",
        "\n",
        "      response  = requests.post(key_phrase_api_url, headers=headers, json=documents)\n",
        "      key_phrase = response.json()\n",
        "      print(\"Key Phrase - \" + str(key_phrase[\"documents\"][0][\"keyPhrases\"]))\n",
        "\n",
        "      for phrase in key_phrase['documents'][0]['keyPhrases']:\n",
        "        if phrase not in result:\n",
        "          result[phrase] = [1, 1]\n",
        "        else:\n",
        "          result[phrase][0] += 1\n",
        "          result[phrase][1] += 1\n",
        "\n",
        "  except Exception as e:\n",
        "    print(\"error_caption_filter\")\n"
      ],
      "execution_count": 0,
      "outputs": []
    },
    {
      "metadata": {
        "id": "eaqmMuPZpCr7",
        "colab_type": "code",
        "colab": {}
      },
      "cell_type": "code",
      "source": [
        "# interests analyzer\n",
        "\n",
        "def interest_filter(interests, result):\n",
        "  for interest in interests:\n",
        "    if interest[\"isMain\"] == \"True\":\n",
        "      result[interest[\"interestName\"].lower()] = [100, 1]\n",
        "    else:\n",
        "      result[interest[\"interestName\"].lower()] = [50, 1]"
      ],
      "execution_count": 0,
      "outputs": []
    },
    {
      "metadata": {
        "id": "r0IYPXRMW9j1",
        "colab_type": "code",
        "colab": {}
      },
      "cell_type": "code",
      "source": [
        "# image tagging\n",
        "\n",
        "def image_tag(url, result):\n",
        "  \n",
        "  try:    \n",
        "    # Immaga results\n",
        "    api_key = 'acc_2eeecb0fb721a8a'\n",
        "    api_secret = 'af186bc0677bdcfccd3900a15557f46a'\n",
        "\n",
        "    response = requests.get('https://api.imagga.com/v1/tagging?url=%s' % url, auth=(api_key, api_secret))\n",
        "    data = response.json()\n",
        "    tags = data[\"results\"][0][\"tags\"]\n",
        "\n",
        "    for tag in tags:      \n",
        "      if tag[\"tag\"] not in result:\n",
        "        result[tag[\"tag\"]] = [tag[\"confidence\"], 1]\n",
        "      else:\n",
        "        result[tag[\"tag\"]][0] += tag[\"confidence\"]\n",
        "        result[tag[\"tag\"]][1] += 1\n",
        "\n",
        "      \n",
        "    # Clarifai results\n",
        "    app = ClarifaiApp(api_key='87408d50d73b4697b11911f7f048e071')\n",
        "    model = app.public_models.general_model\n",
        "    model.model_version = 'aa7f35c01e0642fda5cf400f543e7c40'\n",
        "\n",
        "    tags = model.predict_by_url(url=url)\n",
        "    tags = tags[\"outputs\"][0][\"data\"][\"concepts\"]\n",
        "    \n",
        "    for tag in tags:      \n",
        "      if tag[\"name\"] not in result:\n",
        "        result[tag[\"name\"]] = [tag[\"value\"]*100, 1]\n",
        "      else:\n",
        "        result[tag[\"name\"]][0] += tag[\"value\"]*100\n",
        "        result[tag[\"name\"]][1] += 1\n",
        "\n",
        "\n",
        "    # Microsoft API results (need new keys)\n",
        "    response = requests.post(\"https://westcentralus.api.cognitive.microsoft.com/vision/v2.0/analyze?visualFeatures=Description,Tags&subscription-key=4c618df1e194495d97554a0d10efe78e\", headers={\"content-type\":\"application/json\"}, json={\"url\": url})\n",
        "\n",
        "    data = response.json()\n",
        "#     print(data)\n",
        "    tags = data[\"tags\"]\n",
        "    \n",
        "    for tag in tags:\n",
        "      if tag[\"name\"] not in result:\n",
        "        result[tag[\"name\"]] = [tag[\"confidence\"]*100, 1]\n",
        "      else:\n",
        "        result[tag[\"name\"]][0] += tag[\"confidence\"]*100\n",
        "        result[tag[\"name\"]][1] += 1\n",
        "    \n",
        "  except Exception as e:\n",
        "    print(\"error_image_tagging - \" + e)\n"
      ],
      "execution_count": 0,
      "outputs": []
    },
    {
      "metadata": {
        "id": "lPXqP43pSl49",
        "colab_type": "code",
        "colab": {}
      },
      "cell_type": "code",
      "source": [
        "# similarity calculator\n",
        "# TODO\n",
        "def calc_sim(result, advrt):\n",
        "  idx = 1\n",
        "  ad_score = []\n",
        "  for key, res in result.items():\n",
        "    key_score = []\n",
        "    for token in advrt:\n",
        "      try:\n",
        "        key_score.append(model.similarity(key, token) * (res[0]/res[1]))\n",
        "      except:\n",
        "        key_score.append(0)\n",
        "    ad_score.append(key_score)\n",
        "\n",
        "  return ad_score"
      ],
      "execution_count": 0,
      "outputs": []
    },
    {
      "metadata": {
        "id": "VEIWog0HXu42",
        "colab_type": "code",
        "colab": {
          "base_uri": "https://localhost:8080/",
          "height": 315
        },
        "outputId": "64cd9f42-a76d-4c68-bc52-1ce5c44c9044"
      },
      "cell_type": "code",
      "source": [
        "# main\n",
        "\n",
        "user_url = \"userData.json\"\n",
        "advert_url = \"ads.json\"\n",
        "\n",
        "with open(user_url) as f:\n",
        "    data = json.load(f)\n",
        "    \n",
        "with open(advert_url) as f:\n",
        "    advts = json.load(f)\n",
        "\n",
        "# response = requests.get(url)\n",
        "# data = response.json()\n",
        "print(data)\n",
        "\n",
        "userScore = []\n",
        "userId = data[\"email\"]\n",
        "addresses = data[\"userAddresses\"]  # need to see use case\n",
        "\n",
        "interests = data[\"interests\"]\n",
        "orders = data[\"orders\"]\n",
        "\n",
        "contacts = data[\"contacts\"]  # can use interests\n",
        "\n",
        "count = 1\n",
        "\n",
        "results = {}\n",
        "interest_filter(interests, results)\n",
        "\n",
        "for order in orders:\n",
        "  photos = order[\"photos\"]\n",
        "  for photo in photos:\n",
        "    url = photo[\"photoUrl\"]\n",
        "    caption = photo[\"caption\"]\n",
        "    \n",
        "    image_tag(url, results)\n",
        "    caption_filter(caption, results)\n",
        "    \n",
        "    print(results)\n",
        "    \n",
        "#     idx = 1\n",
        "#     img_score = []\n",
        "#     for result in results:\n",
        "#       if model[result[0]] != 0:\n",
        "#         img_score = ((img_score * (idx-1)) + model[result[0]]) / idx\n",
        "#         idx += 1\n",
        "      \n",
        "#     userScore = ((userScore * (count-1)) + img_score) / count\n",
        "    \n",
        "# print(userScore)\n",
        "\n",
        "adScore = []\n",
        "for advt in advts:\n",
        "  adScore.append(calc_sim(results, advt[\"keywords\"]))\n",
        "  \n",
        "# print(adScore)"
      ],
      "execution_count": 66,
      "outputs": [
        {
          "output_type": "stream",
          "text": [
            "{'numberOfPhostcards': 77, 'profilePicPath': None, 'profilePicThumbnailPath': None, 'name': 'Demo', 'phoneNumber': '5558882220', 'countryCode': '+91', 'dob': '10/10/1994', 'sex': 'Male', 'email': 'demo@gmail.com', 'userId': '60cecc3e-a008-4174-a7ad-d1bda6ea0cc8', 'status': 'success', 'userAddresses': [{'pincode': '305001', 'houseNo': 'flat', 'locality': 'nagpur', 'landmark': None, 'addressType': 'HOME', 'city': 'Ajmer', 'state': 'Rajasthan', 'id': '3fa16457-fc53-4e88-a924-f907a55e8528', 'contactId': None, 'userId': '60cecc3e-a008-4174-a7ad-d1bda6ea0cc8', 'isPrimary': False, 'status': 'success'}, {'pincode': '400101', 'houseNo': 'hash', 'locality': 'wgegbev', 'landmark': '', 'addressType': 'HOME', 'city': 'Mumbai', 'state': 'Maharashtra', 'id': '8ac032c3-88bf-4a76-9b00-e2620c85102c', 'contactId': None, 'userId': '60cecc3e-a008-4174-a7ad-d1bda6ea0cc8', 'isPrimary': True, 'status': 'success'}, {'pincode': '400101', 'houseNo': 'how', 'locality': 'shdhbdbd', 'landmark': '', 'addressType': 'HOME', 'city': 'Mumbai', 'state': 'Maharashtra', 'id': '1dca7e26-20da-479b-b233-6880e76ab6a1', 'contactId': None, 'userId': '60cecc3e-a008-4174-a7ad-d1bda6ea0cc8', 'isPrimary': False, 'status': 'success'}, {'pincode': '400101', 'houseNo': '', 'locality': 'wgegbev', 'landmark': None, 'addressType': 'HOME', 'city': 'Mumbai', 'state': 'Maharashtra', 'id': 'd83d3e4c-d611-47cd-bdfd-7e891ad6a1d3', 'contactId': None, 'userId': '60cecc3e-a008-4174-a7ad-d1bda6ea0cc8', 'isPrimary': False, 'status': 'success'}], 'interests': [{'id': '11', 'interestName': 'Technology', 'isMain': True, 'category': 'Technology'}, {'id': '9', 'interestName': 'Entertainment', 'isMain': True, 'category': 'Entertainment'}], 'orders': [{'orderId': '6d471b99-e28f-4e37-be25-3c722d0066b6', 'timestamp': '26/05/2018 07:19:39', 'status': 'CHECKED', 'userId': 'userId', 'photos': [{'orderId': '6d471b99-e28f-4e37-be25-3c722d0066b6', 'photoId': '5bff665c-ffd7-4cf5-94a2-cba49a0a2224', 'photoUrl': 'https://res.cloudinary.com/phostagram/image/upload/q_auto:low/q_auto:low/v1527309782/2fab07a62aae5cd7.jpg', 'thumbnailPhotoUrl': 'https://res.cloudinary.com/phostagram/image/upload/q_auto:low/q_auto:low/v1527309782/2fab07a62aae5cd7.jpg', 'iosPhotoUrl': 'https://res.cloudinary.com/phostagram/image/upload/q_auto:low,w_600,h_400,c_pad,b_rgb:ffffff/q_auto:low/v1527309782/2fab07a62aae5cd7.jpg', 'androidPhotoUrl': 'https://res.cloudinary.com/phostagram/image/upload/q_auto:low,w_600,h_400,c_pad,b_rgb:ffffff/q_auto:low/v1527309782/2fab07a62aae5cd7.jpg', 'caption': '', 'date': None, 'time': '', 'occasion': '', 'place': '', 'isPublic': False, 'status': 'success'}], 'addresses': [{'addressId': '5c6b561c-f79c-4a3a-a93c-3d33e129474c', 'houseNo': '', 'locality': 'nh 2cicgjvi j j i ivigjfjfufjfjfufjvjvivj k k ovkgkvk kvickbk kvk k ifkdhfj nkcuvk k ivlc8vugl i pv8vkdofyhjdp j kgoxyvjv', 'landmark': None, 'addressType': 'HOME', 'pincode': '305926', 'city': 'Ajmer', 'state': 'Rajasthan', 'name': 'Rajat Gupta', 'countryCode': '+91', 'phoneNumber': '7769926176', 'acknowledged': False, 'phostcardAddressType': None}]}, {'orderId': 'bfa932dc-7744-4187-860a-5b9619b3085a', 'timestamp': '26/05/2018 06:33:12', 'status': 'CHECKED', 'userId': 'userId', 'photos': [{'orderId': 'bfa932dc-7744-4187-860a-5b9619b3085a', 'photoId': 'f00e3755-4b00-4cbd-acb8-86cc46d3ee07', 'photoUrl': 'https://res.cloudinary.com/phostagram/image/upload/q_auto:low/q_auto:low/q_auto:low/v1527328151/af3019261581176f.jpg', 'thumbnailPhotoUrl': 'https://res.cloudinary.com/phostagram/image/upload/q_auto:low/q_auto:low/q_auto:low/v1527328151/af3019261581176f.jpg', 'iosPhotoUrl': 'https://res.cloudinary.com/phostagram/image/upload/q_auto:low,w_600,h_400,c_pad,b_rgb:ffffff/q_auto:low/q_auto:low/v1527328151/af3019261581176f.jpg', 'androidPhotoUrl': 'https://res.cloudinary.com/phostagram/image/upload/q_auto:low,w_600,h_400,c_pad,b_rgb:ffffff/q_auto:low/q_auto:low/v1527328151/af3019261581176f.jpg', 'caption': '', 'date': None, 'time': '', 'occasion': '', 'place': '', 'isPublic': False, 'status': 'success'}], 'addresses': [{'addressId': '5c6b561c-f79c-4a3a-a93c-3d33e129474c', 'houseNo': '', 'locality': 'nh 2cicgjvi j j i ivigjfjfufjfjfufjvjvivj k k ovkgkvk kvickbk kvk k ifkdhfj nkcuvk k ivlc8vugl i pv8vkdofyhjdp j kgoxyvjv', 'landmark': None, 'addressType': 'HOME', 'pincode': '305926', 'city': 'Ajmer', 'state': 'Rajasthan', 'name': 'Rajat Gupta', 'countryCode': '+91', 'phoneNumber': '7769926176', 'acknowledged': False, 'phostcardAddressType': None}, {'addressId': '8d6b8c35-a449-494f-beba-2f5dcf05b687', 'houseNo': '', 'locality': 'jdjsjsj', 'landmark': None, 'addressType': 'HOME', 'pincode': '305001', 'city': 'Ajmer', 'state': 'Rajasthan', 'name': 'nsjsjsj', 'countryCode': '+91', 'phoneNumber': '7769926176', 'acknowledged': False, 'phostcardAddressType': None}]}, {'orderId': '151f2f20-cdeb-4ad8-bdc2-613398305206', 'timestamp': '26/05/2018 06:30:41', 'status': 'CHECKED', 'userId': 'userId', 'photos': [{'orderId': '151f2f20-cdeb-4ad8-bdc2-613398305206', 'photoId': 'f2a9d454-ff13-48d7-9f57-eb69e2e3d1f7', 'photoUrl': 'https://res.cloudinary.com/phostagram/image/upload/q_auto:low/q_auto:low/v1527328151/af3019261581176f.jpg', 'thumbnailPhotoUrl': 'https://res.cloudinary.com/phostagram/image/upload/q_auto:low/q_auto:low/v1527328151/af3019261581176f.jpg', 'iosPhotoUrl': 'https://res.cloudinary.com/phostagram/image/upload/q_auto:low,w_600,h_400,c_pad,b_rgb:ffffff/q_auto:low/v1527328151/af3019261581176f.jpg', 'androidPhotoUrl': 'https://res.cloudinary.com/phostagram/image/upload/q_auto:low,w_600,h_400,c_pad,b_rgb:ffffff/q_auto:low/v1527328151/af3019261581176f.jpg', 'caption': '', 'date': None, 'time': '', 'occasion': '', 'place': '', 'isPublic': False, 'status': 'success'}], 'addresses': [{'addressId': '5c6b561c-f79c-4a3a-a93c-3d33e129474c', 'houseNo': '', 'locality': 'nh 2cicgjvi j j i ivigjfjfufjfjfufjvjvivj k k ovkgkvk kvickbk kvk k ifkdhfj nkcuvk k ivlc8vugl i pv8vkdofyhjdp j kgoxyvjv', 'landmark': None, 'addressType': 'HOME', 'pincode': '305926', 'city': 'Ajmer', 'state': 'Rajasthan', 'name': 'Rajat Gupta', 'countryCode': '+91', 'phoneNumber': '7769926176', 'acknowledged': False, 'phostcardAddressType': None}]}, {'orderId': '7b9b8297-1865-4478-ac25-71f0de9395d4', 'timestamp': '26/05/2018 03:19:13', 'status': 'CHECKED', 'userId': 'userId', 'photos': [{'orderId': '7b9b8297-1865-4478-ac25-71f0de9395d4', 'photoId': 'f79f353b-0d8d-4726-9f3b-6e8441488d26', 'photoUrl': 'https://res.cloudinary.com/phostagram/image/upload/q_auto:low/v1527328151/af3019261581176f.jpg', 'thumbnailPhotoUrl': 'https://res.cloudinary.com/phostagram/image/upload/q_auto:low/v1527328151/af3019261581176f.jpg', 'iosPhotoUrl': 'https://res.cloudinary.com/phostagram/image/upload/q_auto:low,w_600,h_400,c_pad,b_rgb:ffffff/v1527328151/af3019261581176f.jpg', 'androidPhotoUrl': 'https://res.cloudinary.com/phostagram/image/upload/q_auto:low,w_600,h_400,c_pad,b_rgb:ffffff/v1527328151/af3019261581176f.jpg', 'caption': '', 'date': '--', 'time': None, 'occasion': '', 'place': '', 'isPublic': False, 'status': 'success'}], 'addresses': [{'addressId': '43fc0e2b-3595-4168-9000-61022672c4e5', 'houseNo': '', 'locality': 'jgjghjgjghj', 'landmark': None, 'addressType': 'HOME', 'pincode': '305001', 'city': 'Ajmer', 'state': 'Rajasthan', 'name': 'mukeah', 'countryCode': '+91', 'phoneNumber': '7769926176', 'acknowledged': False, 'phostcardAddressType': None}, {'addressId': '5c6b561c-f79c-4a3a-a93c-3d33e129474c', 'houseNo': '', 'locality': 'nh 2cicgjvi j j i ivigjfjfufjfjfufjvjvivj k k ovkgkvk kvickbk kvk k ifkdhfj nkcuvk k ivlc8vugl i pv8vkdofyhjdp j kgoxyvjv', 'landmark': None, 'addressType': 'HOME', 'pincode': '305926', 'city': 'Ajmer', 'state': 'Rajasthan', 'name': 'Rajat Gupta', 'countryCode': '+91', 'phoneNumber': '7769926176', 'acknowledged': False, 'phostcardAddressType': None}]}, {'orderId': '8b766c3d-ef76-4fb1-9080-61395abd096f', 'timestamp': '26/05/2018 02:42:36', 'status': 'CHECKED', 'userId': 'userId', 'photos': [{'orderId': '8b766c3d-ef76-4fb1-9080-61395abd096f', 'photoId': '870a82ed-12ff-410a-83d3-0849e44404e6', 'photoUrl': 'https://res.cloudinary.com/phostagram/image/upload/q_auto:low/v1527325954/8735b7abf366b19a.jpg', 'thumbnailPhotoUrl': 'https://res.cloudinary.com/phostagram/image/upload/q_auto:low/v1527325954/8735b7abf366b19a.jpg', 'iosPhotoUrl': 'https://res.cloudinary.com/phostagram/image/upload/q_auto:low,w_600,h_400,c_pad,b_rgb:ffffff/v1527325954/8735b7abf366b19a.jpg', 'androidPhotoUrl': 'https://res.cloudinary.com/phostagram/image/upload/q_auto:low,w_600,h_400,c_pad,b_rgb:ffffff/v1527325954/8735b7abf366b19a.jpg', 'caption': '', 'date': '--', 'time': None, 'occasion': '', 'place': '', 'isPublic': False, 'status': 'success'}], 'addresses': [{'addressId': '43fc0e2b-3595-4168-9000-61022672c4e5', 'houseNo': '', 'locality': 'jgjghjgjghj', 'landmark': None, 'addressType': 'HOME', 'pincode': '305001', 'city': 'Ajmer', 'state': 'Rajasthan', 'name': 'mukeah', 'countryCode': '+91', 'phoneNumber': '7769926176', 'acknowledged': False, 'phostcardAddressType': None}]}, {'orderId': 'f6f34348-c71e-41f1-be01-1a8784a78dca', 'timestamp': '26/05/2018 01:41:27', 'status': 'CHECKED', 'userId': 'userId', 'photos': [{'orderId': 'f6f34348-c71e-41f1-be01-1a8784a78dca', 'photoId': 'ff95d445-e027-4f5a-b32b-20e963f734f4', 'photoUrl': 'https://res.cloudinary.com/phostagram/image/upload/q_auto:low/v1527322286/ed9dff6ecd31e047.jpg', 'thumbnailPhotoUrl': 'https://res.cloudinary.com/phostagram/image/upload/q_auto:low/v1527322286/ed9dff6ecd31e047.jpg', 'iosPhotoUrl': 'https://res.cloudinary.com/phostagram/image/upload/q_auto:low,w_600,h_400,c_pad,b_rgb:ffffff/v1527322286/ed9dff6ecd31e047.jpg', 'androidPhotoUrl': 'https://res.cloudinary.com/phostagram/image/upload/q_auto:low,w_600,h_400,c_pad,b_rgb:ffffff/v1527322286/ed9dff6ecd31e047.jpg', 'caption': '', 'date': '--', 'time': None, 'occasion': '', 'place': '', 'isPublic': False, 'status': 'success'}], 'addresses': [{'addressId': '7cc65fb9-aa86-4a1a-8894-2b5fd3e33d83', 'houseNo': '', 'locality': 'bdhsb sss', 'landmark': None, 'addressType': 'HOME', 'pincode': '305001', 'city': 'Ajmer', 'state': 'Rajasthan', 'name': 'Rajat Gupta', 'countryCode': '+91', 'phoneNumber': '7769926176', 'acknowledged': False, 'phostcardAddressType': None}, {'addressId': '1172034a-395e-41a9-a6cd-882da5c1c9b1', 'houseNo': '', 'locality': 'nshs hsj', 'landmark': None, 'addressType': 'HOME', 'pincode': '305001', 'city': 'Ajmer', 'state': 'Rajasthan', 'name': 'hehshsh d', 'countryCode': '+91', 'phoneNumber': '6767979797', 'acknowledged': False, 'phostcardAddressType': None}, {'addressId': '4edaddd7-b0bc-474b-851e-803d70ac0c8d', 'houseNo': '', 'locality': 'Mission Compound Road', 'landmark': None, 'addressType': 'HOME', 'pincode': '305925', 'city': 'Ajmer', 'state': 'Rajasthan', 'name': 'shourya', 'countryCode': '+91', 'phoneNumber': '9460652333', 'acknowledged': False, 'phostcardAddressType': None}, {'addressId': '39de2b5c-4c41-469c-a0bd-30951d6f78bb', 'houseNo': '', 'locality': ' Shop No. 4546, Arya Samaj Roadsbsh ssnsjsns. snsksnd dbf f g fndnd d. dd. dndnd d d d, Gyan Chand Sumer Chand jewellers, Reghar Pura, Karol Bagh', 'landmark': None, 'addressType': 'HOME', 'pincode': '305001', 'city': 'Ajmer', 'state': 'Rajasthan', 'name': 'Rakesh Gupta', 'countryCode': '+91', 'phoneNumber': '9650882709', 'acknowledged': False, 'phostcardAddressType': None}, {'addressId': '43fc0e2b-3595-4168-9000-61022672c4e5', 'houseNo': '', 'locality': 'jgjghjgjghj', 'landmark': None, 'addressType': 'HOME', 'pincode': '305001', 'city': 'Ajmer', 'state': 'Rajasthan', 'name': 'mukeah', 'countryCode': '+91', 'phoneNumber': '7769926176', 'acknowledged': False, 'phostcardAddressType': None}, {'addressId': 'ae5c3f76-12ec-4301-93cf-64cccbc6fcd5', 'houseNo': '', 'locality': 'jwjwhsbsbsn', 'landmark': None, 'addressType': 'HOME', 'pincode': '305001', 'city': 'Ajmer', 'state': 'Rajasthan', 'name': 'jshshshs', 'countryCode': '+91', 'phoneNumber': '7997979797', 'acknowledged': False, 'phostcardAddressType': None}, {'addressId': '6b10f6e2-a097-451c-89f6-3dd859a439ca', 'houseNo': '', 'locality': 'hshsh s', 'landmark': None, 'addressType': 'HOME', 'pincode': '305001', 'city': 'Ajmer', 'state': 'Rajasthan', 'name': 'Rajat Gupta', 'countryCode': '+91', 'phoneNumber': '7769926176', 'acknowledged': False, 'phostcardAddressType': None}, {'addressId': 'b7025427-0715-42cc-8500-2123ba62bf24', 'houseNo': '', 'locality': '25/3883 2nd Fl, Reghar Pura, Karol Bagh', 'landmark': None, 'addressType': 'HOME', 'pincode': '305001', 'city': 'Ajmer', 'state': 'Rajasthan', 'name': 'Su nita ', 'countryCode': '+91', 'phoneNumber': '7838550810', 'acknowledged': False, 'phostcardAddressType': None}, {'addressId': '5c6b561c-f79c-4a3a-a93c-3d33e129474c', 'houseNo': '', 'locality': 'nh 2', 'landmark': None, 'addressType': 'HOME', 'pincode': '305926', 'city': 'Ajmer', 'state': 'Rajasthan', 'name': 'Rajat Gupta', 'countryCode': '+91', 'phoneNumber': '7769926176', 'acknowledged': False, 'phostcardAddressType': None}, {'addressId': '8d6b8c35-a449-494f-beba-2f5dcf05b687', 'houseNo': '', 'locality': 'jdjsjsj', 'landmark': None, 'addressType': 'HOME', 'pincode': '305001', 'city': 'Ajmer', 'state': 'Rajasthan', 'name': 'nsjsjsj', 'countryCode': '+91', 'phoneNumber': '7769926176', 'acknowledged': False, 'phostcardAddressType': None}, {'addressId': 'ccd94a0d-715c-473e-b952-42a8f09afa19', 'houseNo': '', 'locality': 'B3, Lisha Vistata, Green Glen Layout, Bellandur', 'landmark': None, 'addressType': 'HOME', 'pincode': '305001', 'city': 'Ajmer', 'state': 'Rajasthan', 'name': 'Rajat Gupta', 'countryCode': '+91', 'phoneNumber': '7769926176', 'acknowledged': False, 'phostcardAddressType': None}, {'addressId': 'ca541efa-fd93-46b9-92b0-d518bd7a0bc4', 'houseNo': '', 'locality': 'pss  f', 'landmark': None, 'addressType': 'HOME', 'pincode': '305003', 'city': 'Ajmer', 'state': 'Rajasthan', 'name': 'mukeah', 'countryCode': '+91', 'phoneNumber': '7769926176', 'acknowledged': False, 'phostcardAddressType': None}, {'addressId': '1de137d8-d6e5-42b2-9f90-551c446207ce', 'houseNo': '', 'locality': 'gfdgfdgfdgfdgfdgfdg', 'landmark': None, 'addressType': 'HOME', 'pincode': '305001', 'city': 'Ajmer', 'state': 'Rajasthan', 'name': 'hhfhgfhgfh', 'countryCode': '+91', 'phoneNumber': 'ggfdgfdgfd', 'acknowledged': False, 'phostcardAddressType': None}]}, {'orderId': 'e211d416-b9e2-41af-877d-093caa83ce40', 'timestamp': '26/05/2018 12:19:48', 'status': 'CHECKED', 'userId': 'userId', 'photos': [{'orderId': 'e211d416-b9e2-41af-877d-093caa83ce40', 'photoId': '0bb021d2-29e7-4061-a097-1ce364cb2870', 'photoUrl': 'https://res.cloudinary.com/phostagram/image/upload/q_auto:low/v1527317386/00aa25cef8d45473.jpg', 'thumbnailPhotoUrl': 'https://res.cloudinary.com/phostagram/image/upload/q_auto:low/v1527317386/00aa25cef8d45473.jpg', 'iosPhotoUrl': 'https://res.cloudinary.com/phostagram/image/upload/q_auto:low,w_600,h_400,c_pad,b_rgb:ffffff/v1527317386/00aa25cef8d45473.jpg', 'androidPhotoUrl': 'https://res.cloudinary.com/phostagram/image/upload/q_auto:low,w_600,h_400,c_pad,b_rgb:ffffff/v1527317386/00aa25cef8d45473.jpg', 'caption': 'Charger', 'date': '26-May-2018', 'time': 'Morning ', 'occasion': 'Charge', 'place': 'Bangalore', 'isPublic': False, 'status': 'success'}], 'addresses': [{'addressId': '5c6b561c-f79c-4a3a-a93c-3d33e129474c', 'houseNo': '', 'locality': 'nh 2', 'landmark': None, 'addressType': 'HOME', 'pincode': '305926', 'city': 'Ajmer', 'state': 'Rajasthan', 'name': 'Rajat Gupta', 'countryCode': '+91', 'phoneNumber': '7769926176', 'acknowledged': False, 'phostcardAddressType': None}]}, {'orderId': 'b6c25fbd-5d36-4160-8cb8-7e364cfbe1f8', 'timestamp': '26/05/2018 10:13:03', 'status': 'CHECKED', 'userId': 'userId', 'photos': [{'orderId': 'b6c25fbd-5d36-4160-8cb8-7e364cfbe1f8', 'photoId': 'a2d2ebd8-9581-44c2-84df-6070c8299038', 'photoUrl': 'https://res.cloudinary.com/phostagram/image/upload/q_auto:low/v1527309782/2fab07a62aae5cd7.jpg', 'thumbnailPhotoUrl': 'https://res.cloudinary.com/phostagram/image/upload/q_auto:low/v1527309782/2fab07a62aae5cd7.jpg', 'iosPhotoUrl': 'https://res.cloudinary.com/phostagram/image/upload/q_auto:low,w_600,h_400,c_pad,b_rgb:ffffff/v1527309782/2fab07a62aae5cd7.jpg', 'androidPhotoUrl': 'https://res.cloudinary.com/phostagram/image/upload/q_auto:low,w_600,h_400,c_pad,b_rgb:ffffff/v1527309782/2fab07a62aae5cd7.jpg', 'caption': '', 'date': '--', 'time': None, 'occasion': '', 'place': '', 'isPublic': False, 'status': 'success'}], 'addresses': [{'addressId': '7cc65fb9-aa86-4a1a-8894-2b5fd3e33d83', 'houseNo': '', 'locality': 'bdhsb s', 'landmark': None, 'addressType': 'HOME', 'pincode': '305001', 'city': 'Ajmer', 'state': 'Rajasthan', 'name': 'Rajat Gupta', 'countryCode': '+91', 'phoneNumber': '7769926176', 'acknowledged': False, 'phostcardAddressType': None}]}, {'orderId': '86abd815-81bd-4dd4-839e-71e68fe4c3d1', 'timestamp': '25/05/2018 11:14:09', 'status': 'CHECKED', 'userId': 'userId', 'photos': [{'orderId': '86abd815-81bd-4dd4-839e-71e68fe4c3d1', 'photoId': '01174e71-d371-42af-838c-8fc1666ab604', 'photoUrl': 'https://res.cloudinary.com/phostagram/image/upload/q_auto:low/v1527270247/204e8b8b905838af.jpg', 'thumbnailPhotoUrl': 'https://res.cloudinary.com/phostagram/image/upload/q_auto:low/v1527270247/204e8b8b905838af.jpg', 'iosPhotoUrl': 'https://res.cloudinary.com/phostagram/image/upload/q_auto:low,w_600,h_400,c_pad,b_rgb:ffffff/v1527270247/204e8b8b905838af.jpg', 'androidPhotoUrl': 'https://res.cloudinary.com/phostagram/image/upload/q_auto:low,w_600,h_400,c_pad,b_rgb:ffffff/v1527270247/204e8b8b905838af.jpg', 'caption': '', 'date': '--', 'time': None, 'occasion': '', 'place': '', 'isPublic': False, 'status': 'success'}], 'addresses': [{'addressId': '7cc65fb9-aa86-4a1a-8894-2b5fd3e33d83', 'houseNo': '', 'locality': 'bdhsb s', 'landmark': None, 'addressType': 'HOME', 'pincode': '305001', 'city': 'Ajmer', 'state': 'Rajasthan', 'name': 'Rajat Gupta', 'countryCode': '+91', 'phoneNumber': '7769926176', 'acknowledged': False, 'phostcardAddressType': None}]}, {'orderId': 'af6c142d-13c9-4d87-91f1-807c57673d24', 'timestamp': '25/05/2018 08:42:56', 'status': 'CHECKED', 'userId': 'userId', 'photos': [{'orderId': 'af6c142d-13c9-4d87-91f1-807c57673d24', 'photoId': '8c7493b0-6830-464a-927a-0bd0c278e1a2', 'photoUrl': 'https://res.cloudinary.com/phostagram/image/upload/q_auto:low/v1527261174/661ec46236ca9a2c.jpg', 'thumbnailPhotoUrl': 'https://res.cloudinary.com/phostagram/image/upload/q_auto:low/v1527261174/661ec46236ca9a2c.jpg', 'iosPhotoUrl': 'https://res.cloudinary.com/phostagram/image/upload/q_auto:low,w_600,h_400,c_pad,b_rgb:ffffff/v1527261174/661ec46236ca9a2c.jpg', 'androidPhotoUrl': 'https://res.cloudinary.com/phostagram/image/upload/q_auto:low,w_600,h_400,c_pad,b_rgb:ffffff/v1527261174/661ec46236ca9a2c.jpg', 'caption': '', 'date': '--', 'time': None, 'occasion': '', 'place': '', 'isPublic': False, 'status': 'success'}], 'addresses': [{'addressId': 'b7025427-0715-42cc-8500-2123ba62bf24', 'houseNo': '', 'locality': '25/3883 2nd Fl, Reghar Pura, Karol Bagh', 'landmark': None, 'addressType': 'HOME', 'pincode': '305001', 'city': 'Ajmer', 'state': 'Rajasthan', 'name': 'Sunita Gupta', 'countryCode': '+91', 'phoneNumber': '7838550810', 'acknowledged': False, 'phostcardAddressType': None}, {'addressId': '4edaddd7-b0bc-474b-851e-803d70ac0c8d', 'houseNo': '', 'locality': 'Mission Compound Road', 'landmark': None, 'addressType': 'HOME', 'pincode': '305925', 'city': 'Ajmer', 'state': 'Rajasthan', 'name': 'shourya', 'countryCode': '+91', 'phoneNumber': '9460652333', 'acknowledged': False, 'phostcardAddressType': None}]}], 'contacts': [{'id': '4ece91dd-5177-4f62-b6ae-87d01b41414c', 'userProfileId': '88df9425-d403-4fee-bc5c-b73246a46a44', 'contactAddresses': [{'pincode': '110005', 'houseNo': 'gzzg', 'locality': 'vzbzhxu', 'landmark': '', 'addressType': 'HOME', 'city': 'Central Delhi', 'state': 'Delhi', 'id': '37791dad-0b51-4623-a71b-37d02016284e', 'contactId': '4ece91dd-5177-4f62-b6ae-87d01b41414c', 'userId': None, 'isPrimary': False, 'status': 'success'}], 'name': 'malhar', 'phoneNumber': '7769926176', 'countryCode': '+91', 'dob': '19/10/2018', 'age': '20 - 25', 'sex': 'Male', 'status': 'success', 'interests': [{'id': '2', 'interestName': 'Travel', 'isMain': True, 'category': 'Travel'}, {'id': '5', 'interestName': 'Fitness', 'isMain': True, 'category': 'Fitness'}, {'id': '8', 'interestName': 'Cars & Bikes', 'isMain': True, 'category': 'Cars & Bikes'}, {'id': '9', 'interestName': 'Entertainment', 'isMain': True, 'category': 'Entertainment'}, {'id': '6', 'interestName': 'Fashion', 'isMain': True, 'category': 'Fashion'}]}, {'id': '41a85d6c-3ecc-45b6-87b3-e909d406ca13', 'userProfileId': '88df9425-d403-4fee-bc5c-b73246a46a44', 'contactAddresses': [{'pincode': '305001', 'houseNo': '9', 'locality': 'cool', 'landmark': '', 'addressType': 'HOME', 'city': 'Ajmer', 'state': 'Rajasthan', 'id': 'feb016df-ca3d-4cc6-8699-0206e7a84359', 'contactId': '41a85d6c-3ecc-45b6-87b3-e909d406ca13', 'userId': None, 'isPrimary': False, 'status': 'success'}], 'name': 'Shourya Agarwal', 'phoneNumber': '9460652333', 'countryCode': '+91', 'dob': '17/09/2018', 'age': '20 - 25', 'sex': 'Male', 'status': 'success', 'interests': []}, {'id': 'be3fdcd0-27f2-4672-b7d6-c05220b249a7', 'userProfileId': '88df9425-d403-4fee-bc5c-b73246a46a44', 'contactAddresses': [{'pincode': '400008', 'houseNo': '446', 'locality': '45465', 'landmark': 'land', 'addressType': 'OFFICE', 'city': 'Mumbai', 'state': 'Maharashtra', 'id': 'cb2bbcd2-3ba6-403d-8c4c-83f5f26a146a', 'contactId': 'be3fdcd0-27f2-4672-b7d6-c05220b249a7', 'userId': None, 'isPrimary': None, 'status': 'success'}, {'pincode': '305001', 'houseNo': 'ggggfdgvd', 'locality': ' fgfg', 'landmark': '', 'addressType': 'HOME', 'city': 'Ajmer', 'state': 'Rajasthan', 'id': 'b3e4311b-5418-4f12-9bae-8ffc9ebd8b5f', 'contactId': 'be3fdcd0-27f2-4672-b7d6-c05220b249a7', 'userId': None, 'isPrimary': None, 'status': 'success'}], 'name': 'nkjnlk', 'phoneNumber': '4564654684', 'countryCode': '+91', 'dob': None, 'age': '15 - 20', 'sex': 'Male', 'status': 'success', 'interests': [{'id': '5', 'interestName': 'Fitness', 'isMain': True, 'category': 'Fitness'}]}, {'id': 'aecb397f-a06f-44d4-bda1-f082f3389a2c', 'userProfileId': '88df9425-d403-4fee-bc5c-b73246a46a44', 'contactAddresses': [{'pincode': '305001', 'houseNo': 'as', 'locality': 'ruudu', 'landmark': '', 'addressType': 'HOME', 'city': 'Ajmer', 'state': 'Rajasthan', 'id': 'cafbf3a2-532d-4bcf-9cc8-b921d252d44c', 'contactId': 'aecb397f-a06f-44d4-bda1-f082f3389a2c', 'userId': None, 'isPrimary': None, 'status': 'success'}], 'name': 'kgififif', 'phoneNumber': '6868676868', 'countryCode': '+91', 'dob': '20/09/2018', 'age': '25 - 30', 'sex': 'Female', 'status': 'success', 'interests': [{'id': '11', 'interestName': 'Technology', 'isMain': True, 'category': 'Technology'}, {'id': '3', 'interestName': 'Education', 'isMain': True, 'category': 'Education'}, {'id': '2', 'interestName': 'Travel', 'isMain': True, 'category': 'Travel'}]}, {'id': '66966fd7-e9df-450e-ae9e-2efbe6862128', 'userProfileId': '88df9425-d403-4fee-bc5c-b73246a46a44', 'contactAddresses': [{'pincode': '440010', 'houseNo': '', 'locality': 'Karol gggf', 'landmark': None, 'addressType': 'HOME', 'city': 'Nagpur', 'state': 'Maharashtra', 'id': '10898a87-63da-4857-a366-ce674f7d8ecf', 'contactId': '66966fd7-e9df-450e-ae9e-2efbe6862128', 'userId': None, 'isPrimary': False, 'status': 'success'}], 'name': 'Rishabh', 'phoneNumber': '9812312312', 'countryCode': '+91', 'dob': '03/03/1111', 'age': '20 - 25', 'sex': 'Male', 'status': 'success', 'interests': [{'id': '5', 'interestName': 'Fitness', 'isMain': True, 'category': 'Fitness'}]}, {'id': 'c394266e-4171-4ee0-b645-82a1906c8a2f', 'userProfileId': '88df9425-d403-4fee-bc5c-b73246a46a44', 'contactAddresses': [{'pincode': '305001', 'houseNo': '', 'locality': 'ncbxh', 'landmark': None, 'addressType': 'HOME', 'city': 'Ajmer', 'state': 'Rajasthan', 'id': '11f8e4bd-99d6-46e7-9a67-b3c5e0e5e0a0', 'contactId': 'c394266e-4171-4ee0-b645-82a1906c8a2f', 'userId': None, 'isPrimary': False, 'status': 'success'}, {'pincode': '305001', 'houseNo': '', 'locality': 'ehshxbxh', 'landmark': None, 'addressType': 'HOME', 'city': 'Ajmer', 'state': 'Rajasthan', 'id': '940dea6a-a3a4-4b83-9790-21586e46c26f', 'contactId': 'c394266e-4171-4ee0-b645-82a1906c8a2f', 'userId': None, 'isPrimary': False, 'status': 'success'}, {'pincode': '305001', 'houseNo': '', 'locality': 'ehshxbxh', 'landmark': None, 'addressType': 'HOME', 'city': 'Ajmer', 'state': 'Rajasthan', 'id': 'a56dcd8d-2a34-4838-99fc-dfe0ed086c6d', 'contactId': 'c394266e-4171-4ee0-b645-82a1906c8a2f', 'userId': None, 'isPrimary': False, 'status': 'success'}, {'pincode': '305001', 'houseNo': '', 'locality': '25/3883 2nd Fl, Reghar Pura, Karol Bagh', 'landmark': None, 'addressType': 'HOME', 'city': 'Ajmer', 'state': 'Rajasthan', 'id': 'b7025427-0715-42cc-8500-2123ba62bf24', 'contactId': 'c394266e-4171-4ee0-b645-82a1906c8a2f', 'userId': None, 'isPrimary': False, 'status': 'success'}], 'name': 'Sunita ', 'phoneNumber': '7838550810', 'countryCode': '+91', 'dob': '26/12/2017', 'age': '40 - 45', 'sex': 'Female', 'status': 'success', 'interests': [{'id': '1', 'interestName': 'Food', 'isMain': True, 'category': 'Food'}, {'id': '11', 'interestName': 'Technology', 'isMain': True, 'category': 'Technology'}]}, {'id': '12d0c690-f111-48bd-8aa2-27ae23b89795', 'userProfileId': '88df9425-d403-4fee-bc5c-b73246a46a44', 'contactAddresses': [{'pincode': '305001', 'houseNo': 'tahj', 'locality': 'jsjsjsjdgs', 'landmark': '', 'addressType': 'HOME', 'city': 'Ajmer', 'state': 'Rajasthan', 'id': '1776003b-2cd1-4cc9-8373-35b86e7ea949', 'contactId': '12d0c690-f111-48bd-8aa2-27ae23b89795', 'userId': None, 'isPrimary': False, 'status': 'success'}, {'pincode': '305001', 'houseNo': '', 'locality': 'nshs hsj', 'landmark': None, 'addressType': 'HOME', 'city': 'Ajmer', 'state': 'Rajasthan', 'id': '1172034a-395e-41a9-a6cd-882da5c1c9b1', 'contactId': '12d0c690-f111-48bd-8aa2-27ae23b89795', 'userId': None, 'isPrimary': False, 'status': 'success'}], 'name': 'hehshsh d', 'phoneNumber': '6767979797', 'countryCode': '+91', 'dob': '09/12/2017', 'age': '5 - 10', 'sex': 'Female', 'status': 'success', 'interests': [{'id': '10', 'interestName': 'Astrology', 'isMain': True, 'category': 'Astrology'}, {'id': '2', 'interestName': 'Travel', 'isMain': True, 'category': 'Travel'}]}, {'id': '1e369b80-903b-4ecd-ab5f-0bd3bece5b23', 'userProfileId': '88df9425-d403-4fee-bc5c-b73246a46a44', 'contactAddresses': [{'pincode': '305005', 'houseNo': '', 'locality': 'keshava', 'landmark': None, 'addressType': 'HOME', 'city': 'Ajmer', 'state': 'Rajasthan', 'id': 'fd0e6fcd-80d3-4faa-a742-80577578edf7', 'contactId': '1e369b80-903b-4ecd-ab5f-0bd3bece5b23', 'userId': None, 'isPrimary': False, 'status': 'success'}, {'pincode': '305001', 'houseNo': '', 'locality': 'narayana', 'landmark': None, 'addressType': 'HOME', 'city': 'Ajmer', 'state': 'Rajasthan', 'id': '43fc0e2b-3595-4168-9000-61022672c4e5', 'contactId': '1e369b80-903b-4ecd-ab5f-0bd3bece5b23', 'userId': None, 'isPrimary': False, 'status': 'success'}, {'pincode': '305003', 'houseNo': '', 'locality': 'pss  f', 'landmark': None, 'addressType': 'HOME', 'city': 'Ajmer', 'state': 'Rajasthan', 'id': 'ca541efa-fd93-46b9-92b0-d518bd7a0bc4', 'contactId': '1e369b80-903b-4ecd-ab5f-0bd3bece5b23', 'userId': None, 'isPrimary': None, 'status': 'success'}], 'name': 'mukeah', 'phoneNumber': '7769926176', 'countryCode': '+91', 'dob': None, 'age': '15 - 20', 'sex': 'Male', 'status': 'success', 'interests': [{'id': '2', 'interestName': 'Travel', 'isMain': True, 'category': 'Travel'}]}, {'id': '9bce8e44-beb9-42d0-8914-54bd1e3b2a87', 'userProfileId': '88df9425-d403-4fee-bc5c-b73246a46a44', 'contactAddresses': [{'pincode': '305001', 'houseNo': '', 'locality': 'fdfjdsklfjdskl', 'landmark': None, 'addressType': 'HOME', 'city': 'Ajmer', 'state': 'Rajasthan', 'id': 'bbca3242-8a94-48a9-9b3f-17bf80fb9684', 'contactId': '9bce8e44-beb9-42d0-8914-54bd1e3b2a87', 'userId': None, 'isPrimary': False, 'status': 'success'}, {'pincode': '305001', 'houseNo': '', 'locality': 'jwjwhsbsbsn', 'landmark': None, 'addressType': 'HOME', 'city': 'Ajmer', 'state': 'Rajasthan', 'id': 'ae5c3f76-12ec-4301-93cf-64cccbc6fcd5', 'contactId': '9bce8e44-beb9-42d0-8914-54bd1e3b2a87', 'userId': None, 'isPrimary': False, 'status': 'success'}], 'name': 'jshshshs', 'phoneNumber': '7997979797', 'countryCode': '+91', 'dob': None, 'age': '15 - 20', 'sex': 'Female', 'status': 'success', 'interests': [{'id': '11', 'interestName': 'Technology', 'isMain': True, 'category': 'Technology'}, {'id': '3', 'interestName': 'Education', 'isMain': True, 'category': 'Education'}, {'id': '6', 'interestName': 'Fashion', 'isMain': True, 'category': 'Fashion'}]}, {'id': '6128a46c-f6e9-4ad1-b722-b2f9cdab2494', 'userProfileId': '88df9425-d403-4fee-bc5c-b73246a46a44', 'contactAddresses': [{'pincode': '440010', 'houseNo': '', 'locality': ' Shop No. 4546, Arya Samaj Road, Gyan Chand Sumer Chand jewellers, Reghar Pura, Karol Bagh', 'landmark': None, 'addressType': 'HOME', 'city': 'Nagpur', 'state': 'Maharashtra', 'id': '39de2b5c-4c41-469c-a0bd-30951d6f78bb', 'contactId': '6128a46c-f6e9-4ad1-b722-b2f9cdab2494', 'userId': None, 'isPrimary': None, 'status': 'success'}], 'name': 'Rakesh Gupta', 'phoneNumber': '9650882709', 'countryCode': '+91', 'dob': None, 'age': '50 - 55', 'sex': 'Male', 'status': 'success', 'interests': [{'id': '10', 'interestName': 'Astrology', 'isMain': True, 'category': 'Astrology'}]}, {'id': 'b74fae44-0152-4e9b-bc93-727ae3100b2a', 'userProfileId': '88df9425-d403-4fee-bc5c-b73246a46a44', 'contactAddresses': [{'pincode': '305001', 'houseNo': '', 'locality': 'jdjsjsj', 'landmark': None, 'addressType': 'HOME', 'city': 'Ajmer', 'state': 'Rajasthan', 'id': '8d6b8c35-a449-494f-beba-2f5dcf05b687', 'contactId': 'b74fae44-0152-4e9b-bc93-727ae3100b2a', 'userId': None, 'isPrimary': False, 'status': 'success'}], 'name': 'nsjsjsj', 'phoneNumber': '7769926176', 'countryCode': '+91', 'dob': '03/03/1111', 'age': '10 - 15', 'sex': 'Female', 'status': 'success', 'interests': []}, {'id': '7d5a2de7-5536-4e63-9502-d35becb49863', 'userProfileId': '88df9425-d403-4fee-bc5c-b73246a46a44', 'contactAddresses': [{'pincode': '305925', 'houseNo': '', 'locality': 'Mission Compound Road', 'landmark': None, 'addressType': 'HOME', 'city': 'Ajmer', 'state': 'Rajasthan', 'id': '4edaddd7-b0bc-474b-851e-803d70ac0c8d', 'contactId': '7d5a2de7-5536-4e63-9502-d35becb49863', 'userId': None, 'isPrimary': False, 'status': 'success'}], 'name': 'shourya', 'phoneNumber': '9460652333', 'countryCode': '+91', 'dob': '03/11/1995', 'age': '10 - 15', 'sex': 'Male', 'status': 'success', 'interests': [{'id': '3', 'interestName': 'Education', 'isMain': True, 'category': 'Education'}]}, {'id': 'eb794e3c-ccec-4c9e-a7d8-f31b07a17162', 'userProfileId': '88df9425-d403-4fee-bc5c-b73246a46a44', 'contactAddresses': [{'pincode': '305001', 'houseNo': '', 'locality': 'gfdgfdgfdgfdgfdgfdg', 'landmark': None, 'addressType': 'HOME', 'city': 'Ajmer', 'state': 'Rajasthan', 'id': '1de137d8-d6e5-42b2-9f90-551c446207ce', 'contactId': 'eb794e3c-ccec-4c9e-a7d8-f31b07a17162', 'userId': None, 'isPrimary': False, 'status': 'success'}], 'name': 'hhfhgfhgfh', 'phoneNumber': 'ggfdgfdgfd', 'countryCode': '+91', 'dob': None, 'age': '10 - 15', 'sex': 'Female', 'status': 'success', 'interests': [{'id': '2', 'interestName': 'Travel', 'isMain': True, 'category': 'Travel'}, {'id': '10', 'interestName': 'Astrology', 'isMain': True, 'category': 'Astrology'}, {'id': '11', 'interestName': 'Technology', 'isMain': True, 'category': 'Technology'}, {'id': '6', 'interestName': 'Fashion', 'isMain': True, 'category': 'Fashion'}]}]}\n",
            "{'technology': [50, 1], 'entertainment': [50, 1], 'classroom': [62.6038436889648, 1], 'room': [131.25628376007077, 2], 'man': [132.7296619415283, 2], 'male': [36.9892730712891, 1], 'adult': [126.00373458862308, 2], 'teacher': [33.0550689697266, 1], 'smiling': [31.8211460113525, 1], 'happy': [29.441686630249, 1], 'person': [127.155571937561, 2], 'people': [125.82063579559329, 2], 'student': [26.5530281066895, 1], 'professional': [24.0644283294678, 1], 'group': [114.08783936500551, 2], 'men': [22.3201370239258, 1], 'together': [21.0221672058105, 1], 'couple': [20.9018154144287, 1], 'indoors': [20.1998996734619, 1], 'family': [19.5634746551514, 1], 'business': [19.4287090301514, 1], 'home': [19.135721206665, 1], 'education': [19.041711807251, 1], 'sitting': [18.88844871521, 1], 'senior': [18.7398986816406, 1], 'educator': [17.8521766662598, 1], 'businessman': [17.6476726531982, 1], 'smile': [17.0965805053711, 1], 'portrait': [115.00640273094177, 2], 'school': [16.1381340026855, 1], 'casual': [14.3989915847778, 1], 'college': [14.2249937057495, 1], 'office': [14.0173988342285, 1], 'standing': [104.8100147247314, 2], 'mature': [13.0139217376709, 1], 'lifestyle': [13.0039720535278, 1], 'corporate': [12.8827991485596, 1], 'happiness': [12.5312767028809, 1], 'class': [12.5270967483521, 1], 'husband': [12.3994646072388, 1], 'adults': [12.3011789321899, 1], 'boy': [12.1679792404175, 1], 'father': [12.0657844543457, 1], 'computer': [12.0150213241577, 1], '20s': [11.9057197570801, 1], 'work': [11.768593788147, 1], '60s': [11.7193908691406, 1], 'color': [11.6743927001953, 1], 'handsome': [11.5830421447754, 1], '30s': [11.5382442474365, 1], 'job': [11.4963903427124, 1], 'elderly': [11.4852142333984, 1], 'mother': [11.1658763885498, 1], 'clinic': [10.8720712661743, 1], 'board': [10.8477592468262, 1], 'team': [10.7490940093994, 1], 'students': [10.7153940200806, 1], 'consultant': [10.7092275619507, 1], '40s': [10.7067365646362, 1], 'medical': [10.5911073684692, 1], 'executive': [10.5778017044067, 1], 'enrollee': [10.5474987030029, 1], 'wife': [10.4257020950317, 1], 'looking': [10.3927125930786, 1], 'friendly': [10.0573024749756, 1], 'indoor': [106.61895585060115, 2], 'confident': [10.0057106018066, 1], '50s': [9.79027843475342, 1], 'cheerful': [9.74796295166016, 1], 'trainer': [9.69422626495361, 1], 'mid adult': [9.64608001708984, 1], 'busy': [9.63657855987549, 1], 'businesspeople': [9.48429107666016, 1], 'doctor': [9.39749622344971, 1], 'camera': [9.2354564666748, 1], 'inside': [9.20121479034424, 1], 'buddy': [9.19841766357422, 1], 'laptop': [9.10849666595459, 1], 'modern': [9.10766792297363, 1], 'businesswoman': [9.08466243743896, 1], 'child': [8.94611263275146, 1], 'hospital': [8.86091041564941, 1], 'two people': [8.74450492858887, 1], 'career': [8.51597881317139, 1], 'meeting': [8.47571754455566, 1], 'friends': [8.45226573944092, 1], 'communication': [8.39451885223389, 1], 'teamwork': [8.34390830993652, 1], 'clothing': [8.26041793823242, 1], 'building': [8.23128890991211, 1], 'interior': [7.95740222930908, 1], 'women': [7.90715551376343, 1], 'sixties': [7.84524011611938, 1], 'black': [7.8096866607666, 1], 'teaching': [7.79096984863281, 1], 'dad': [7.78011178970337, 1], 'employee': [7.64874362945557, 1], 'university': [7.64574766159058, 1], 'clothes': [7.48867130279541, 1], 'holding': [7.42503261566162, 1], 'bright': [7.14779567718506, 1], 'working': [7.06726408004761, 1], 'day': [7.0590991973877, 1], 'wear': [92.27431416511536, 1], 'facial expression': [91.3980782032013, 1], 'music': [85.82401871681213, 1], 'administration': [85.67728996276855, 1], 'offense': [85.50252914428711, 1], 'election': [85.45974493026733, 1], 'recreation': [83.83497595787048, 1], 'musician': [83.47622752189636, 1], 'interaction': [81.67660236358643, 1], 'three': [81.6089928150177, 1], 'two': [81.08779191970825, 1], 'singer': [80.41622638702393, 1], 'ailment': [77.96638607978821, 1], 'woman': [77.5234580039978, 1], 'wall': [98.5593855381012, 1], 'posing': [95.40810585021973, 1], 'sign': [60.81013083457947, 1]}\n",
            "{'technology': [50, 1], 'entertainment': [50, 1], 'classroom': [129.1487579345703, 2], 'room': [265.6343369483948, 4], 'man': [266.45163130760193, 4], 'male': [76.111930847168, 2], 'adult': [251.73519992828375, 4], 'teacher': [64.1445617675782, 2], 'smiling': [65.8142528533935, 2], 'happy': [61.391702651977496, 2], 'person': [254.25875473022455, 4], 'people': [251.76647710800177, 4], 'student': [56.0739650726319, 2], 'professional': [46.5990562438965, 2], 'group': [228.74605250358587, 4], 'men': [47.2176609039307, 2], 'together': [42.0467720031738, 2], 'couple': [41.8064403533935, 2], 'indoors': [40.4021301269531, 2], 'family': [39.1285724639893, 2], 'business': [37.6453018188477, 2], 'home': [37.476713180542, 2], 'education': [36.3545169830322, 2], 'sitting': [40.3544178009034, 2], 'senior': [36.5459537506103, 2], 'educator': [34.8795986175537, 2], 'businessman': [36.1797504425048, 2], 'smile': [35.619386672973604, 2], 'portrait': [229.4588809013367, 4], 'school': [32.264524459838796, 2], 'casual': [27.9528017044067, 2], 'college': [26.5549697875976, 2], 'office': [28.265043258667, 2], 'standing': [208.06871271133417, 4], 'mature': [26.0295629501343, 2], 'lifestyle': [26.7321987152099, 2], 'corporate': [25.766789436340403, 2], 'happiness': [25.0643491744996, 2], 'class': [24.0921993255616, 2], 'husband': [23.8470792770386, 2], 'adults': [22.7112941741943, 2], 'boy': [26.0745267868042, 2], 'father': [25.2599296569824, 2], 'computer': [25.6328563690185, 2], '20s': [23.8124237060547, 2], 'work': [23.5385885238648, 2], '60s': [22.4636964797973, 2], 'color': [21.6821546554565, 2], 'handsome': [22.276819229125998, 2], '30s': [23.0774765014648, 2], 'job': [22.9944486618042, 2], 'elderly': [22.0148992538452, 2], 'mother': [23.5050821304321, 2], 'clinic': [19.27844810485838, 2], 'board': [20.792734146118192, 2], 'team': [23.2892866134643, 2], 'students': [22.4053287506104, 2], 'consultant': [21.4193162918091, 2], '40s': [22.3875617980957, 2], 'medical': [22.065168380737298, 2], 'executive': [22.265742301940897, 2], 'enrollee': [22.1057767868042, 2], 'wife': [19.90526580810543, 2], 'looking': [20.786152839660602, 2], 'friendly': [21.0298318862915, 2], 'indoor': [212.57966065406794, 4], 'confident': [21.8308887481689, 2], '50s': [18.602532386779792, 2], 'cheerful': [19.49683666229248, 2], 'trainer': [17.96605205535888, 2], 'mid adult': [20.25740337371824, 2], 'busy': [20.23768615722659, 2], 'businesspeople': [19.91802597045896, 2], 'doctor': [18.7958574295044, 2], 'camera': [17.54871654510498, 2], 'inside': [19.32269001007084, 2], 'buddy': [16.35626983642578, 2], 'laptop': [20.94969081878659, 2], 'modern': [18.917085647583008, 2], 'businesswoman': [19.078616142272942, 2], 'child': [19.65081882476806, 2], 'hospital': [18.67944145202636, 2], 'two people': [19.433574676513672, 2], 'career': [16.08681011199951, 2], 'meeting': [17.89364719390869, 2], 'friends': [16.90485954284668, 2], 'communication': [16.78939437866211, 2], 'teamwork': [18.54100704193112, 2], 'clothing': [15.62683200836181, 2], 'building': [8.23128890991211, 1], 'interior': [15.03193092346191, 2], 'women': [16.60505914688111, 2], 'sixties': [7.84524011611938, 1], 'black': [15.020041465759281, 2], 'teaching': [15.58328533172607, 2], 'dad': [15.774459838867191, 2], 'employee': [7.64874362945557, 1], 'university': [15.40468978881836, 2], 'clothes': [7.48867130279541, 1], 'holding': [7.42503261566162, 1], 'bright': [7.14779567718506, 1], 'working': [15.01886463165283, 2], 'day': [7.0590991973877, 1], 'wear': [185.0268304347992, 2], 'facial expression': [183.9038848876953, 2], 'music': [170.20819187164307, 2], 'administration': [172.95145988464355, 2], 'offense': [172.16225862503052, 2], 'election': [171.33041620254517, 2], 'recreation': [165.54536819458008, 2], 'musician': [166.759991645813, 2], 'interaction': [162.4176800251007, 2], 'three': [163.7417197227478, 2], 'two': [174.07465600967407, 3], 'singer': [160.0464165210724, 2], 'ailment': [157.0873200893402, 2], 'woman': [156.58170580863953, 2], 'wall': [197.45073318481445, 2], 'posing': [191.55027270317078, 2], 'sign': [122.76032567024231, 2], 'son': [7.91721630096436, 1], 'confidence': [7.65767526626587, 1], 'staff': [7.6505708694458, 1], 'desk': [7.55447435379028, 1], 'nurse': [7.45715808868408, 1]}\n",
            "{'technology': [50, 1], 'entertainment': [50, 1], 'classroom': [195.6936721801758, 3], 'room': [400.01239013671875, 6], 'man': [400.17360067367554, 6], 'male': [115.2345886230469, 3], 'adult': [377.4666652679444, 6], 'teacher': [95.2340545654298, 3], 'smiling': [99.8073596954345, 3], 'happy': [93.341718673706, 3], 'person': [381.3619375228881, 6], 'people': [377.7123184204102, 6], 'student': [85.5949020385743, 3], 'professional': [69.1336841583252, 3], 'group': [343.40426564216625, 6], 'men': [72.1151847839356, 3], 'together': [63.071376800537095, 3], 'couple': [62.7110652923583, 3], 'indoors': [60.60436058044429, 3], 'family': [58.693670272827205, 3], 'business': [55.861894607544, 3], 'home': [55.817705154419, 3], 'education': [53.6673221588134, 3], 'sitting': [61.82038688659679, 3], 'senior': [54.35200881958001, 3], 'educator': [51.9070205688476, 3], 'businessman': [54.711828231811396, 3], 'smile': [54.1421928405761, 3], 'portrait': [343.9113590717316, 6], 'school': [48.390914916992095, 3], 'casual': [41.5066118240356, 3], 'college': [38.8849458694457, 3], 'office': [42.5126876831055, 3], 'standing': [311.32741069793695, 6], 'mature': [39.0452041625977, 3], 'lifestyle': [40.460425376892005, 3], 'corporate': [38.65077972412121, 3], 'happiness': [37.5974216461183, 3], 'class': [35.6573019027711, 3], 'husband': [35.2946939468384, 3], 'adults': [33.1214094161987, 3], 'boy': [39.9810743331909, 3], 'father': [38.4540748596191, 3], 'computer': [39.2506914138793, 3], '20s': [35.719127655029304, 3], 'work': [35.3085832595826, 3], '60s': [33.208002090454, 3], 'color': [31.689916610717702, 3], 'handsome': [32.9705963134766, 3], '30s': [34.6167087554931, 3], 'job': [34.492506980895996, 3], 'elderly': [32.544584274292, 3], 'mother': [35.844287872314396, 3], 'clinic': [27.68482494354246, 3], 'board': [30.737709045410185, 3], 'team': [35.8294792175292, 3], 'students': [34.0952634811402, 3], 'consultant': [32.1294050216675, 3], '40s': [34.0683870315552, 3], 'medical': [33.5392293930054, 3], 'executive': [33.9536828994751, 3], 'enrollee': [33.6640548706055, 3], 'wife': [29.38482952117916, 3], 'looking': [31.1795930862426, 3], 'friendly': [32.0023612976074, 3], 'indoor': [318.54036545753473, 6], 'confident': [33.6560668945312, 3], '50s': [27.414786338806163, 3], 'cheerful': [29.2457103729248, 3], 'trainer': [26.23787784576415, 3], 'mid adult': [30.86872673034664, 3], 'busy': [30.838793754577694, 3], 'businesspeople': [30.35176086425776, 3], 'doctor': [28.19421863555909, 3], 'camera': [25.86197662353516, 3], 'inside': [29.44416522979744, 3], 'buddy': [23.51412200927734, 3], 'laptop': [32.79088497161859, 3], 'modern': [28.72650337219239, 3], 'businesswoman': [29.072569847106923, 3], 'child': [30.35552501678466, 3], 'hospital': [28.49797248840331, 3], 'two people': [30.12264442443847, 3], 'career': [23.65764141082763, 3], 'meeting': [27.31157684326172, 3], 'friends': [25.35745334625244, 3], 'communication': [25.184269905090332, 3], 'teamwork': [28.73810577392572, 3], 'clothing': [22.9932460784912, 3], 'building': [8.23128890991211, 1], 'interior': [22.10645961761474, 3], 'women': [25.30296277999879, 3], 'sixties': [7.84524011611938, 1], 'black': [22.23039627075196, 3], 'teaching': [23.37560081481933, 3], 'dad': [23.768807888031013, 3], 'employee': [7.64874362945557, 1], 'university': [23.16363191604614, 3], 'clothes': [7.48867130279541, 1], 'holding': [7.42503261566162, 1], 'bright': [7.14779567718506, 1], 'working': [22.97046518325805, 3], 'day': [7.0590991973877, 1], 'wear': [277.77934670448303, 3], 'facial expression': [276.40969157218933, 3], 'music': [254.592365026474, 3], 'administration': [260.22562980651855, 3], 'offense': [258.8219881057739, 3], 'election': [257.201087474823, 3], 'recreation': [247.25576043128967, 3], 'musician': [250.04375576972961, 3], 'interaction': [243.158757686615, 3], 'three': [245.8744466304779, 3], 'two': [267.0615200996399, 5], 'singer': [239.67660665512085, 3], 'ailment': [236.2082540988922, 3], 'woman': [235.63995361328125, 3], 'wall': [296.3420808315277, 3], 'posing': [287.6924395561218, 3], 'sign': [184.71052050590515, 3], 'son': [15.83443260192872, 2], 'confidence': [15.31535053253174, 2], 'staff': [15.3011417388916, 2], 'desk': [15.10894870758056, 2], 'nurse': [14.91431617736816, 2]}\n",
            "{'technology': [50, 1], 'entertainment': [50, 1], 'classroom': [262.2385864257813, 4], 'room': [534.3904433250427, 8], 'man': [533.8955700397491, 8], 'male': [154.3572463989258, 4], 'adult': [503.19813060760504, 8], 'teacher': [126.3235473632814, 4], 'smiling': [133.8004665374755, 4], 'happy': [125.2917346954345, 4], 'person': [508.4651203155517, 8], 'people': [503.65815973281866, 8], 'student': [115.1158390045167, 4], 'professional': [91.66831207275389, 4], 'group': [458.06247878074663, 8], 'men': [97.0127086639405, 4], 'together': [84.09598159790039, 4], 'couple': [83.6156902313231, 4], 'indoors': [80.80659103393549, 4], 'family': [78.25876808166511, 4], 'business': [74.0784873962403, 4], 'home': [74.158697128296, 4], 'education': [70.9801273345946, 4], 'sitting': [83.2863559722902, 4], 'senior': [72.1580638885497, 4], 'educator': [68.9344425201415, 4], 'businessman': [73.243906021118, 4], 'smile': [72.6649990081786, 4], 'portrait': [458.3638372421266, 8], 'school': [64.5173053741454, 4], 'casual': [55.0604219436645, 4], 'college': [51.2149219512938, 4], 'office': [56.760332107543995, 4], 'standing': [414.58610868453974, 8], 'mature': [52.0608453750611, 4], 'lifestyle': [54.188652038574105, 4], 'corporate': [51.53477001190201, 4], 'happiness': [50.130494117737, 4], 'class': [47.222404479980604, 4], 'husband': [46.7423086166382, 4], 'adults': [43.531524658203104, 4], 'boy': [53.887621879577594, 4], 'father': [51.648220062255795, 4], 'computer': [52.86852645874011, 4], '20s': [47.625831604003906, 4], 'work': [47.0785779953004, 4], '60s': [43.9523077011107, 4], 'color': [41.697678565978904, 4], 'handsome': [43.6643733978272, 4], '30s': [46.1559410095214, 4], 'job': [45.99056529998779, 4], 'elderly': [43.0742692947388, 4], 'mother': [48.18349361419669, 4], 'clinic': [36.09120178222654, 4], 'board': [40.68268394470218, 4], 'team': [48.369671821594096, 4], 'students': [45.78519821167, 4], 'consultant': [42.8394937515259, 4], '40s': [45.7492122650147, 4], 'medical': [45.0132904052735, 4], 'executive': [45.6416234970093, 4], 'enrollee': [45.222332954406795, 4], 'wife': [38.86439323425289, 4], 'looking': [41.5730333328246, 4], 'friendly': [42.9748907089233, 4], 'indoor': [424.50107026100153, 8], 'confident': [45.4812450408935, 4], '50s': [36.227040290832534, 4], 'cheerful': [38.99458408355712, 4], 'trainer': [34.50970363616942, 4], 'mid adult': [41.48005008697504, 4], 'busy': [41.439901351928796, 4], 'businesspeople': [40.785495758056555, 4], 'doctor': [37.59257984161378, 4], 'camera': [34.17523670196534, 4], 'inside': [39.56564044952404, 4], 'buddy': [30.6719741821289, 4], 'laptop': [44.632079124450584, 4], 'modern': [38.53592109680177, 4], 'businesswoman': [39.066523551940904, 4], 'child': [41.06023120880126, 4], 'hospital': [38.31650352478026, 4], 'two people': [40.81171417236327, 4], 'career': [31.228472709655748, 4], 'meeting': [36.729506492614746, 4], 'friends': [33.8100471496582, 4], 'communication': [33.579145431518555, 4], 'teamwork': [38.935204505920325, 4], 'clothing': [30.35966014862059, 4], 'building': [8.23128890991211, 1], 'interior': [29.18098831176757, 4], 'women': [34.00086641311647, 4], 'sixties': [7.84524011611938, 1], 'black': [29.44075107574464, 4], 'teaching': [31.16791629791259, 4], 'dad': [31.76315593719483, 4], 'employee': [7.64874362945557, 1], 'university': [30.92257404327392, 4], 'clothes': [7.48867130279541, 1], 'holding': [7.42503261566162, 1], 'bright': [7.14779567718506, 1], 'working': [30.92206573486327, 4], 'day': [7.0590991973877, 1], 'wear': [370.53186297416687, 4], 'facial expression': [368.91549825668335, 4], 'music': [338.97653818130493, 4], 'administration': [347.49979972839355, 4], 'offense': [345.48171758651733, 4], 'election': [343.07175874710083, 4], 'recreation': [328.96615266799927, 4], 'musician': [333.32751989364624, 4], 'interaction': [323.8998353481293, 4], 'three': [328.007173538208, 4], 'two': [360.0483841896057, 7], 'singer': [319.3067967891693, 4], 'ailment': [315.3291881084442, 4], 'woman': [314.698201417923, 4], 'wall': [395.23342847824097, 4], 'posing': [383.8346064090729, 4], 'sign': [246.660715341568, 4], 'son': [23.75164890289308, 3], 'confidence': [22.97302579879761, 3], 'staff': [22.9517126083374, 3], 'desk': [22.66342306137084, 3], 'nurse': [22.37147426605224, 3]}\n",
            "{'technology': [164.29854488372797, 3], 'entertainment': [50, 1], 'classroom': [262.2385864257813, 4], 'room': [641.8010454177856, 10], 'man': [533.8955700397491, 8], 'male': [154.3572463989258, 4], 'adult': [503.19813060760504, 8], 'teacher': [126.3235473632814, 4], 'smiling': [133.8004665374755, 4], 'happy': [125.2917346954345, 4], 'person': [508.4651203155517, 8], 'people': [503.65815973281866, 8], 'student': [115.1158390045167, 4], 'professional': [91.66831207275389, 4], 'group': [458.06247878074663, 8], 'men': [97.0127086639405, 4], 'together': [84.09598159790039, 4], 'couple': [83.6156902313231, 4], 'indoors': [179.39341855049128, 5], 'family': [173.36222267150885, 5], 'business': [86.2295007705689, 5], 'home': [83.7365722656251, 5], 'education': [70.9801273345946, 4], 'sitting': [83.2863559722902, 4], 'senior': [72.1580638885497, 4], 'educator': [68.9344425201415, 4], 'businessman': [73.243906021118, 4], 'smile': [72.6649990081786, 4], 'portrait': [458.3638372421266, 8], 'school': [64.5173053741454, 4], 'casual': [55.0604219436645, 4], 'college': [51.2149219512938, 4], 'office': [68.81376743316659, 5], 'standing': [414.58610868453974, 8], 'mature': [52.0608453750611, 4], 'lifestyle': [54.188652038574105, 4], 'corporate': [51.53477001190201, 4], 'happiness': [50.130494117737, 4], 'class': [47.222404479980604, 4], 'husband': [46.7423086166382, 4], 'adults': [43.531524658203104, 4], 'boy': [53.887621879577594, 4], 'father': [51.648220062255795, 4], 'computer': [70.51336097717271, 5], '20s': [47.625831604003906, 4], 'work': [47.0785779953004, 4], '60s': [43.9523077011107, 4], 'color': [41.697678565978904, 4], 'handsome': [43.6643733978272, 4], '30s': [46.1559410095214, 4], 'job': [45.99056529998779, 4], 'elderly': [43.0742692947388, 4], 'mother': [48.18349361419669, 4], 'clinic': [36.09120178222654, 4], 'board': [40.68268394470218, 4], 'team': [48.369671821594096, 4], 'students': [45.78519821167, 4], 'consultant': [42.8394937515259, 4], '40s': [45.7492122650147, 4], 'medical': [45.0132904052735, 4], 'executive': [45.6416234970093, 4], 'enrollee': [45.222332954406795, 4], 'wife': [38.86439323425289, 4], 'looking': [41.5730333328246, 4], 'friendly': [42.9748907089233, 4], 'indoor': [519.9157445430756, 9], 'confident': [45.4812450408935, 4], '50s': [36.227040290832534, 4], 'cheerful': [38.99458408355712, 4], 'trainer': [34.50970363616942, 4], 'mid adult': [41.48005008697504, 4], 'busy': [41.439901351928796, 4], 'businesspeople': [40.785495758056555, 4], 'doctor': [37.59257984161378, 4], 'camera': [34.17523670196534, 4], 'inside': [39.56564044952404, 4], 'buddy': [30.6719741821289, 4], 'laptop': [44.632079124450584, 4], 'modern': [45.549550056457534, 5], 'businesswoman': [39.066523551940904, 4], 'child': [41.06023120880126, 4], 'hospital': [38.31650352478026, 4], 'two people': [40.81171417236327, 4], 'career': [31.228472709655748, 4], 'meeting': [36.729506492614746, 4], 'friends': [33.8100471496582, 4], 'communication': [45.346788406372056, 5], 'teamwork': [38.935204505920325, 4], 'clothing': [30.35966014862059, 4], 'building': [8.23128890991211, 1], 'interior': [38.91654586791991, 5], 'women': [34.00086641311647, 4], 'sixties': [7.84524011611938, 1], 'black': [29.44075107574464, 4], 'teaching': [31.16791629791259, 4], 'dad': [31.76315593719483, 4], 'employee': [7.64874362945557, 1], 'university': [30.92257404327392, 4], 'clothes': [7.48867130279541, 1], 'holding': [7.42503261566162, 1], 'bright': [7.14779567718506, 1], 'working': [30.92206573486327, 4], 'day': [7.0590991973877, 1], 'wear': [370.53186297416687, 4], 'facial expression': [368.91549825668335, 4], 'music': [338.97653818130493, 4], 'administration': [347.49979972839355, 4], 'offense': [345.48171758651733, 4], 'election': [343.07175874710083, 4], 'recreation': [328.96615266799927, 4], 'musician': [333.32751989364624, 4], 'interaction': [323.8998353481293, 4], 'three': [328.007173538208, 4], 'two': [452.60901522636414, 8], 'singer': [319.3067967891693, 4], 'ailment': [315.3291881084442, 4], 'woman': [314.698201417923, 4], 'wall': [505.2525386810303, 6], 'posing': [383.8346064090729, 4], 'sign': [255.68900513648987, 5], 'son': [23.75164890289308, 3], 'confidence': [22.97302579879761, 3], 'staff': [22.9517126083374, 3], 'desk': [22.66342306137084, 3], 'nurse': [22.37147426605224, 3], 'toilet tissue': [100, 1], 'tissue': [100, 1], 'paper': [85.8370971679688, 1], 'keyboard': [21.6089344024658, 1], 'key': [17.7660884857178, 1], 'close': [13.7034292221069, 1], 'keys': [12.6715812683105, 1], 'device': [12.6655263900757, 1], 'cord': [12.5884637832642, 1], 'object': [12.4644870758057, 1], 'plug': [12.1640367507935, 1], 'power cord': [11.0399990081787, 1], 'clean': [10.8594636917114, 1], 'equipment': [10.5964498519897, 1], 'electrical': [10.5482540130615, 1], 'electricity': [110.02510356903072, 2], 'electric': [10.3081245422363, 1], 'connection': [108.23509883880615, 2], 'outlet': [109.19461417198181, 2], 'button': [9.69100570678711, 1], 'towel': [9.63528442382812, 1], 'bathroom': [9.61449718475342, 1], 'socket': [107.51960563659668, 2], 'keypad': [8.75962924957275, 1], 'type': [8.62689590454102, 1], '3d': [8.52392768859863, 1], 'word': [8.49140071868896, 1], 'web': [8.47998809814453, 1], 'commerce': [8.40873146057129, 1], 'power': [100.42255115509033, 2], 'security': [8.26905536651611, 1], 'plastic': [104.66346025466919, 2], 'letter': [8.25722217559814, 1], 'bank': [8.06461429595947, 1], 'concepts': [8.00144958496094, 1], 'information': [7.9746356010437, 1], 'order': [7.73778390884399, 1], 'empty': [7.72991609573364, 1], 'hotel': [7.64081621170044, 1], 'finance': [7.60644483566284, 1], 'electronics': [100.76702332496643, 2], 'bath': [7.59717702865601, 1], 'hygiene': [7.56951427459717, 1], 'buttons': [7.55211067199707, 1], 'house': [7.52527809143066, 1], 'paper towel': [7.51944351196289, 1], 'row': [7.4543023109436, 1], 'symbol': [7.40655517578125, 1], 'safety': [7.3678035736084, 1], 'toilet': [7.23682117462158, 1], 'no person': [99.88037347793579, 1], 'voltage': [99.51424598693848, 1], 'one': [98.49753975868225, 1], 'stopper': [98.20488095283508, 1], 'wire': [97.61213064193726, 1], 'still life': [97.14862704277039, 1], 'access': [95.60250043869019, 1], 'furniture': [95.44900059700012, 1], 'jack': [91.6542649269104, 1]}\n",
            "{'technology': [164.29854488372797, 3], 'entertainment': [50, 1], 'classroom': [328.0688476562501, 5], 'room': [775.4350361824036, 12], 'man': [666.0058035850525, 10], 'male': [192.05663681030282, 5], 'adult': [630.5942859649659, 10], 'teacher': [157.303945541382, 5], 'smiling': [166.3479785919189, 5], 'happy': [155.989252090454, 5], 'person': [635.7567183971405, 10], 'people': [629.5096313953401, 10], 'student': [145.2834262847901, 5], 'professional': [114.99261093139648, 5], 'group': [572.4486491680146, 10], 'men': [121.0525779724122, 5], 'together': [104.24444770812988, 5], 'couple': [103.64910888671861, 5], 'indoors': [197.83988308906547, 6], 'family': [192.92678260803225, 6], 'business': [104.44661617279061, 6], 'home': [102.0770854949952, 6], 'education': [90.0238971710204, 5], 'sitting': [104.752395629883, 5], 'senior': [89.96367263793931, 5], 'educator': [86.8593540191649, 5], 'businessman': [91.7764625549315, 5], 'smile': [90.4757690429686, 5], 'portrait': [573.0021739006044, 10], 'school': [80.8207302093505, 5], 'casual': [67.7675247192382, 5], 'college': [65.4415760040282, 5], 'office': [82.88192558288578, 6], 'standing': [516.9751291275024, 10], 'mature': [65.0763158798218, 5], 'lifestyle': [67.1946249008178, 5], 'corporate': [64.41908740997332, 5], 'happiness': [61.880836486816605, 5], 'class': [60.71478939056411, 5], 'husband': [58.1896419525147, 5], 'adults': [55.833295822143505, 5], 'boy': [66.9252414703369, 5], 'father': [64.7058944702148, 5], 'computer': [84.1311187744139, 6], '20s': [59.5325422286987, 5], 'work': [58.8486652374269, 5], '60s': [55.672737121581896, 5], 'color': [54.484865188598505, 5], 'handsome': [54.3582706451417, 5], '30s': [57.695213317871, 5], 'job': [57.4886589050293, 5], 'elderly': [54.5604667663575, 5], 'mother': [60.44079017639149, 5], 'clinic': [45.239782333374, 5], 'board': [50.628044128418, 5], 'team': [60.014918327331394, 5], 'students': [56.5015764236451, 5], 'consultant': [53.5497398376465, 5], '40s': [58.402985572815, 5], 'medical': [56.487587928772, 5], 'executive': [57.3644533157349, 5], 'enrollee': [57.3454160690308, 5], 'wife': [48.343697547912555, 5], 'looking': [51.9668016433715, 5], 'friendly': [53.9477596282959, 5], 'indoor': [625.8024618625641, 11], 'confident': [57.3066434860229, 5], '50s': [46.018331527709975, 5], 'cheerful': [47.119192123413086, 5], 'trainer': [43.51992511749266, 5], 'mid adult': [51.1274909973144, 5], 'busy': [52.0409374237061, 5], 'businesspeople': [51.219423294067255, 5], 'doctor': [47.930376052856474, 5], 'camera': [43.4116439819336, 5], 'inside': [48.76769733428966, 5], 'buddy': [38.02930116653442, 5], 'laptop': [56.473189353942786, 5], 'modern': [54.658579826354995, 6], 'businesswoman': [49.06059265136717, 5], 'child': [51.75475215911867, 5], 'hospital': [48.123704910278306, 5], 'two people': [49.557786941528306, 5], 'career': [38.79952955245971, 5], 'meeting': [46.14753532409668, 5], 'friends': [41.323851108551025, 5], 'communication': [53.7417755126953, 6], 'teamwork': [48.20623111724844, 5], 'clothing': [39.51116275787352, 5], 'building': [8.23128890991211, 1], 'interior': [45.99099826812743, 6], 'women': [42.698889255523696, 5], 'sixties': [7.84524011611938, 1], 'black': [36.65122890472413, 5], 'teaching': [38.9602928161621, 5], 'dad': [39.584366321563735, 5], 'employee': [7.64874362945557, 1], 'university': [38.675223827362046, 5], 'clothes': [14.977620124816891, 2], 'holding': [7.42503261566162, 1], 'bright': [7.14779567718506, 1], 'working': [38.87368249893187, 5], 'day': [14.118846416473389, 2], 'wear': [463.4403705596924, 5], 'facial expression': [461.54149174690247, 5], 'music': [424.4474709033966, 5], 'administration': [435.22241711616516, 5], 'offense': [431.9738030433655, 5], 'election': [429.715096950531, 5], 'recreation': [412.7930700778961, 5], 'musician': [417.6669478416443, 5], 'interaction': [404.29425835609436, 5], 'three': [410.70573329925537, 5], 'two': [544.8672275543213, 10], 'singer': [400.24988055229187, 5], 'ailment': [395.3863739967346, 5], 'woman': [395.1329708099365, 5], 'wall': [604.2070314884186, 7], 'posing': [480.2315354347229, 5], 'sign': [317.29580569267273, 6], 'son': [31.65597820281984, 4], 'confidence': [22.97302579879761, 3], 'staff': [22.9517126083374, 3], 'desk': [31.16213655471801, 4], 'nurse': [29.85001611709594, 4], 'toilet tissue': [100, 1], 'tissue': [100, 1], 'paper': [85.8370971679688, 1], 'keyboard': [21.6089344024658, 1], 'key': [17.7660884857178, 1], 'close': [13.7034292221069, 1], 'keys': [12.6715812683105, 1], 'device': [12.6655263900757, 1], 'cord': [12.5884637832642, 1], 'object': [12.4644870758057, 1], 'plug': [12.1640367507935, 1], 'power cord': [11.0399990081787, 1], 'clean': [10.8594636917114, 1], 'equipment': [10.5964498519897, 1], 'electrical': [10.5482540130615, 1], 'electricity': [110.02510356903072, 2], 'electric': [10.3081245422363, 1], 'connection': [108.23509883880615, 2], 'outlet': [109.19461417198181, 2], 'button': [9.69100570678711, 1], 'towel': [9.63528442382812, 1], 'bathroom': [9.61449718475342, 1], 'socket': [107.51960563659668, 2], 'keypad': [8.75962924957275, 1], 'type': [8.62689590454102, 1], '3d': [8.52392768859863, 1], 'word': [8.49140071868896, 1], 'web': [8.47998809814453, 1], 'commerce': [8.40873146057129, 1], 'power': [100.42255115509033, 2], 'security': [8.26905536651611, 1], 'plastic': [104.66346025466919, 2], 'letter': [8.25722217559814, 1], 'bank': [8.06461429595947, 1], 'concepts': [8.00144958496094, 1], 'information': [7.9746356010437, 1], 'order': [7.73778390884399, 1], 'empty': [7.72991609573364, 1], 'hotel': [7.64081621170044, 1], 'finance': [7.60644483566284, 1], 'electronics': [100.76702332496643, 2], 'bath': [7.59717702865601, 1], 'hygiene': [7.56951427459717, 1], 'buttons': [7.55211067199707, 1], 'house': [7.52527809143066, 1], 'paper towel': [7.51944351196289, 1], 'row': [7.4543023109436, 1], 'symbol': [7.40655517578125, 1], 'safety': [7.3678035736084, 1], 'toilet': [7.23682117462158, 1], 'no person': [99.88037347793579, 1], 'voltage': [99.51424598693848, 1], 'one': [98.49753975868225, 1], 'stopper': [98.20488095283508, 1], 'wire': [97.61213064193726, 1], 'still life': [97.14862704277039, 1], 'access': [95.60250043869019, 1], 'furniture': [95.44900059700012, 1], 'jack': [91.6542649269104, 1], 'medicine': [7.04527378082275, 1]}\n",
            "Caption - Charger\n",
            "Sentiment - 0.5\n",
            "Key Phrase - ['Charger']\n",
            "{'technology': [281.0906071662902, 5], 'entertainment': [50, 1], 'classroom': [328.0688476562501, 5], 'room': [887.1145641803741, 14], 'man': [666.0058035850525, 10], 'male': [192.05663681030282, 5], 'adult': [630.5942859649659, 10], 'teacher': [157.303945541382, 5], 'smiling': [166.3479785919189, 5], 'happy': [155.989252090454, 5], 'person': [635.7567183971405, 10], 'people': [629.5096313953401, 10], 'student': [145.2834262847901, 5], 'professional': [114.99261093139648, 5], 'group': [572.4486491680146, 10], 'men': [121.0525779724122, 5], 'together': [104.24444770812988, 5], 'couple': [103.64910888671861, 5], 'indoors': [296.9495446681975, 7], 'family': [289.2779471874237, 7], 'business': [115.9928903579713, 7], 'home': [114.0505228042603, 7], 'education': [90.0238971710204, 5], 'sitting': [104.752395629883, 5], 'senior': [89.96367263793931, 5], 'educator': [86.8593540191649, 5], 'businessman': [91.7764625549315, 5], 'smile': [90.4757690429686, 5], 'portrait': [573.0021739006044, 10], 'school': [80.8207302093505, 5], 'casual': [67.7675247192382, 5], 'college': [65.4415760040282, 5], 'office': [93.32981300354008, 7], 'standing': [516.9751291275024, 10], 'mature': [65.0763158798218, 5], 'lifestyle': [67.1946249008178, 5], 'corporate': [64.41908740997332, 5], 'happiness': [61.880836486816605, 5], 'class': [60.71478939056411, 5], 'husband': [58.1896419525147, 5], 'adults': [55.833295822143505, 5], 'boy': [66.9252414703369, 5], 'father': [64.7058944702148, 5], 'computer': [101.77945518493641, 7], '20s': [59.5325422286987, 5], 'work': [58.8486652374269, 5], '60s': [55.672737121581896, 5], 'color': [54.484865188598505, 5], 'handsome': [54.3582706451417, 5], '30s': [57.695213317871, 5], 'job': [57.4886589050293, 5], 'elderly': [54.5604667663575, 5], 'mother': [60.44079017639149, 5], 'clinic': [45.239782333374, 5], 'board': [50.628044128418, 5], 'team': [60.014918327331394, 5], 'students': [56.5015764236451, 5], 'consultant': [53.5497398376465, 5], '40s': [58.402985572815, 5], 'medical': [56.487587928772, 5], 'executive': [57.3644533157349, 5], 'enrollee': [57.3454160690308, 5], 'wife': [48.343697547912555, 5], 'looking': [51.9668016433715, 5], 'friendly': [53.9477596282959, 5], 'indoor': [721.9879732131958, 12], 'confident': [57.3066434860229, 5], '50s': [46.018331527709975, 5], 'cheerful': [47.119192123413086, 5], 'trainer': [43.51992511749266, 5], 'mid adult': [51.1274909973144, 5], 'busy': [52.0409374237061, 5], 'businesspeople': [51.219423294067255, 5], 'doctor': [47.930376052856474, 5], 'camera': [43.4116439819336, 5], 'inside': [48.76769733428966, 5], 'buddy': [38.02930116653442, 5], 'laptop': [56.473189353942786, 5], 'modern': [65.17869949340819, 7], 'businesswoman': [49.06059265136717, 5], 'child': [51.75475215911867, 5], 'hospital': [48.123704910278306, 5], 'two people': [49.557786941528306, 5], 'career': [38.79952955245971, 5], 'meeting': [46.14753532409668, 5], 'friends': [41.323851108551025, 5], 'communication': [65.5114164352417, 7], 'teamwork': [48.20623111724844, 5], 'clothing': [39.51116275787352, 5], 'building': [8.23128890991211, 1], 'interior': [58.38355731964113, 7], 'women': [42.698889255523696, 5], 'sixties': [7.84524011611938, 1], 'black': [36.65122890472413, 5], 'teaching': [38.9602928161621, 5], 'dad': [39.584366321563735, 5], 'employee': [7.64874362945557, 1], 'university': [38.675223827362046, 5], 'clothes': [14.977620124816891, 2], 'holding': [7.42503261566162, 1], 'bright': [7.14779567718506, 1], 'working': [38.87368249893187, 5], 'day': [14.118846416473389, 2], 'wear': [463.4403705596924, 5], 'facial expression': [461.54149174690247, 5], 'music': [424.4474709033966, 5], 'administration': [435.22241711616516, 5], 'offense': [431.9738030433655, 5], 'election': [429.715096950531, 5], 'recreation': [412.7930700778961, 5], 'musician': [417.6669478416443, 5], 'interaction': [404.29425835609436, 5], 'three': [410.70573329925537, 5], 'two': [637.6453976631165, 11], 'singer': [400.24988055229187, 5], 'ailment': [395.3863739967346, 5], 'woman': [395.1329708099365, 5], 'wall': [714.0022566318512, 9], 'posing': [480.2315354347229, 5], 'sign': [325.5732009410858, 7], 'son': [31.65597820281984, 4], 'confidence': [22.97302579879761, 3], 'staff': [22.9517126083374, 3], 'desk': [31.16213655471801, 4], 'nurse': [29.85001611709594, 4], 'toilet tissue': [200, 2], 'tissue': [200, 2], 'paper': [163.23945617675793, 2], 'keyboard': [40.4047660827637, 2], 'key': [32.731218338012695, 2], 'close': [28.5511951446533, 2], 'keys': [24.372716903686502, 2], 'device': [28.1924085617066, 2], 'cord': [29.7352933883667, 2], 'object': [25.6652793884278, 2], 'plug': [28.321385383606, 2], 'power cord': [26.6309461593628, 2], 'clean': [22.5567407608032, 2], 'equipment': [23.700736045837402, 2], 'electrical': [23.0159711837768, 2], 'electricity': [222.85106563568107, 4], 'electric': [23.4284801483154, 2], 'connection': [218.10729360580444, 4], 'outlet': [220.234144449234, 4], 'button': [20.26342868804931, 2], 'towel': [21.379277229309118, 2], 'bathroom': [20.19189357757572, 2], 'socket': [216.69366908073425, 4], 'keypad': [17.52176094055175, 2], 'type': [18.21245288848877, 2], '3d': [22.47248172760013, 2], 'word': [16.04117822647094, 2], 'web': [16.96170139312744, 2], 'commerce': [16.81877613067627, 2], 'power': [204.16176748275757, 4], 'security': [8.26905536651611, 1], 'plastic': [210.92386031150818, 4], 'letter': [15.59890842437744, 2], 'bank': [8.06461429595947, 1], 'concepts': [16.893613815307617, 2], 'information': [15.0649938583374, 2], 'order': [7.73778390884399, 1], 'empty': [7.72991609573364, 1], 'hotel': [7.64081621170044, 1], 'finance': [7.60644483566284, 1], 'electronics': [204.3990786075592, 4], 'bath': [16.14556169509888, 2], 'hygiene': [16.08644104003906, 2], 'buttons': [15.10597276687622, 2], 'house': [17.55979728698726, 2], 'paper towel': [17.76770496368409, 2], 'row': [7.4543023109436, 1], 'symbol': [15.48848438262939, 2], 'safety': [7.3678035736084, 1], 'toilet': [17.39086151123048, 2], 'no person': [199.7936189174652, 2], 'voltage': [198.95829558372498, 2], 'one': [196.86316847801208, 2], 'stopper': [195.84628343582153, 2], 'wire': [194.77333426475525, 2], 'still life': [193.7773048877716, 2], 'access': [189.90027904510498, 2], 'furniture': [192.46962666511536, 2], 'jack': [180.0175428390503, 2], 'medicine': [7.04527378082275, 1], 'container': [9.54537391662598, 1], 'conductor': [9.33627223968506, 1], 'supply': [8.68771076202393, 1], 'energy': [8.41331100463867, 1], 'box': [8.19509029388428, 1], 'danger': [8.19069862365723, 1], 'light': [8.02481079101562, 1], 'industry': [7.69073581695557, 1], 'network': [7.41925287246704, 1], 'metal': [7.24557447433472, 1], 'Charger': [1, 1]}\n",
            "{'technology': [281.0906071662902, 5], 'entertainment': [50, 1], 'classroom': [390.6726913452149, 6], 'room': [1018.370847940445, 16], 'man': [798.7354655265808, 12], 'male': [229.0459098815919, 6], 'adult': [756.598020553589, 12], 'teacher': [190.3590145111086, 6], 'smiling': [198.1691246032714, 6], 'happy': [185.43093872070298, 6], 'person': [762.9122903347015, 12], 'people': [755.3302671909333, 12], 'student': [171.8364543914796, 6], 'professional': [139.0570392608643, 6], 'group': [686.5364885330201, 12], 'men': [143.372714996338, 6], 'together': [125.26661491394039, 6], 'couple': [124.5509243011473, 6], 'indoors': [317.14944434165943, 8], 'family': [308.84142184257513, 8], 'business': [135.4215993881227, 8], 'home': [133.1862440109253, 8], 'education': [109.0656089782714, 6], 'sitting': [123.640844345093, 6], 'senior': [108.70357131957991, 6], 'educator': [104.71153068542469, 6], 'businessman': [109.4241352081297, 6], 'smile': [107.5723495483397, 6], 'portrait': [688.0085766315461, 12], 'school': [96.958864212036, 6], 'casual': [82.166516304016, 6], 'college': [79.6665697097777, 6], 'office': [107.34721183776858, 8], 'standing': [621.7851438522339, 12], 'mature': [78.0902376174927, 6], 'lifestyle': [80.1985969543456, 6], 'corporate': [77.30188655853291, 6], 'happiness': [74.41211318969751, 6], 'class': [73.24188613891621, 6], 'husband': [70.5891065597535, 6], 'adults': [68.13447475433341, 6], 'boy': [79.0932207107544, 6], 'father': [76.7716789245605, 6], 'computer': [113.79447650909411, 8], '20s': [71.43826198577881, 6], 'work': [70.6172590255739, 6], '60s': [67.3921279907225, 6], 'color': [66.1592578887938, 6], 'handsome': [65.9413127899171, 6], '30s': [69.2334575653075, 6], 'job': [68.9850492477417, 6], 'elderly': [66.0456809997559, 6], 'mother': [71.60666656494129, 6], 'clinic': [56.111853599548304, 6], 'board': [61.4758033752442, 6], 'team': [70.76401233673079, 6], 'students': [67.2169704437257, 6], 'consultant': [64.2589673995972, 6], '40s': [69.1097221374512, 6], 'medical': [67.0786952972412, 6], 'executive': [67.9422550201416, 6], 'enrollee': [67.89291477203369, 6], 'wife': [58.76939964294425, 6], 'looking': [62.359514236450096, 6], 'friendly': [64.0050621032715, 6], 'indoor': [828.606929063797, 14], 'confident': [67.3123540878295, 6], '50s': [55.80860996246339, 6], 'cheerful': [56.86715507507324, 6], 'trainer': [53.214151382446275, 6], 'mid adult': [60.77357101440424, 6], 'busy': [61.677515983581586, 6], 'businesspeople': [60.70371437072741, 6], 'doctor': [57.32787227630618, 6], 'camera': [52.6471004486084, 6], 'inside': [57.968912124633896, 6], 'buddy': [47.227718830108635, 6], 'laptop': [65.58168601989738, 6], 'modern': [74.28636741638182, 8], 'businesswoman': [58.14525508880613, 6], 'child': [60.700864791870124, 6], 'hospital': [56.98461532592772, 6], 'two people': [58.30229187011717, 6], 'career': [47.3155083656311, 6], 'meeting': [54.623252868652344, 6], 'friends': [49.77611684799194, 6], 'communication': [73.90593528747559, 8], 'teamwork': [56.55013942718496, 6], 'clothing': [47.77158069610594, 6], 'building': [16.46257781982422, 2], 'interior': [66.34095954895021, 8], 'women': [50.606044769287124, 6], 'sixties': [15.69048023223876, 2], 'black': [44.46091556549073, 6], 'teaching': [46.751262664794915, 6], 'dad': [47.364478111267104, 6], 'employee': [15.29748725891114, 2], 'university': [46.32097148895262, 6], 'clothes': [22.4662914276123, 3], 'holding': [14.85006523132324, 2], 'bright': [14.29559135437012, 2], 'working': [45.94094657897948, 6], 'day': [21.177945613861088, 3], 'wear': [555.7146847248077, 6], 'facial expression': [552.9395699501038, 6], 'music': [510.27148962020874, 6], 'administration': [520.8997070789337, 6], 'offense': [517.4763321876526, 6], 'election': [515.1748418807983, 6], 'recreation': [496.6280460357666, 6], 'musician': [501.14317536354065, 6], 'interaction': [485.9708607196808, 6], 'three': [492.31472611427307, 6], 'two': [718.7331895828247, 12], 'singer': [480.6661069393158, 6], 'ailment': [473.3527600765228, 6], 'woman': [472.6564288139343, 6], 'wall': [812.5616421699524, 10], 'posing': [575.6396412849426, 6], 'sign': [386.3833317756653, 8], 'son': [31.65597820281984, 4], 'confidence': [22.97302579879761, 3], 'staff': [22.9517126083374, 3], 'desk': [31.16213655471801, 4], 'nurse': [29.85001611709594, 4], 'toilet tissue': [200, 2], 'tissue': [200, 2], 'paper': [163.23945617675793, 2], 'keyboard': [40.4047660827637, 2], 'key': [32.731218338012695, 2], 'close': [28.5511951446533, 2], 'keys': [24.372716903686502, 2], 'device': [28.1924085617066, 2], 'cord': [29.7352933883667, 2], 'object': [25.6652793884278, 2], 'plug': [28.321385383606, 2], 'power cord': [26.6309461593628, 2], 'clean': [22.5567407608032, 2], 'equipment': [23.700736045837402, 2], 'electrical': [23.0159711837768, 2], 'electricity': [222.85106563568107, 4], 'electric': [23.4284801483154, 2], 'connection': [218.10729360580444, 4], 'outlet': [220.234144449234, 4], 'button': [20.26342868804931, 2], 'towel': [21.379277229309118, 2], 'bathroom': [20.19189357757572, 2], 'socket': [216.69366908073425, 4], 'keypad': [17.52176094055175, 2], 'type': [18.21245288848877, 2], '3d': [22.47248172760013, 2], 'word': [16.04117822647094, 2], 'web': [16.96170139312744, 2], 'commerce': [16.81877613067627, 2], 'power': [204.16176748275757, 4], 'security': [8.26905536651611, 1], 'plastic': [210.92386031150818, 4], 'letter': [15.59890842437744, 2], 'bank': [8.06461429595947, 1], 'concepts': [16.893613815307617, 2], 'information': [15.0649938583374, 2], 'order': [7.73778390884399, 1], 'empty': [7.72991609573364, 1], 'hotel': [7.64081621170044, 1], 'finance': [7.60644483566284, 1], 'electronics': [204.3990786075592, 4], 'bath': [16.14556169509888, 2], 'hygiene': [16.08644104003906, 2], 'buttons': [15.10597276687622, 2], 'house': [17.55979728698726, 2], 'paper towel': [17.76770496368409, 2], 'row': [7.4543023109436, 1], 'symbol': [15.48848438262939, 2], 'safety': [7.3678035736084, 1], 'toilet': [17.39086151123048, 2], 'no person': [199.7936189174652, 2], 'voltage': [198.95829558372498, 2], 'one': [196.86316847801208, 2], 'stopper': [195.84628343582153, 2], 'wire': [194.77333426475525, 2], 'still life': [193.7773048877716, 2], 'access': [189.90027904510498, 2], 'furniture': [192.46962666511536, 2], 'jack': [180.0175428390503, 2], 'medicine': [7.04527378082275, 1], 'container': [9.54537391662598, 1], 'conductor': [9.33627223968506, 1], 'supply': [8.68771076202393, 1], 'energy': [8.41331100463867, 1], 'box': [8.19509029388428, 1], 'danger': [8.19069862365723, 1], 'light': [8.02481079101562, 1], 'industry': [7.69073581695557, 1], 'network': [7.41925287246704, 1], 'metal': [7.24557447433472, 1], 'Charger': [1, 1]}\n",
            "{'technology': [281.0906071662902, 5], 'entertainment': [50, 1], 'classroom': [453.2765350341797, 7], 'room': [1149.6271317005157, 18], 'man': [931.4651274681091, 14], 'male': [266.03518295288103, 7], 'adult': [882.601755142212, 14], 'teacher': [223.4140834808352, 7], 'smiling': [229.9902706146239, 7], 'happy': [214.87262535095198, 7], 'person': [890.0678622722626, 14], 'people': [881.1509029865266, 14], 'student': [198.38948249816912, 7], 'professional': [163.1214675903321, 7], 'group': [800.6243278980256, 14], 'men': [165.6928520202638, 7], 'together': [146.2887821197509, 7], 'couple': [145.452739715576, 7], 'indoors': [337.34934401512135, 9], 'family': [328.40489649772655, 9], 'business': [154.8503084182741, 9], 'home': [152.3219652175903, 9], 'education': [128.1073207855224, 7], 'sitting': [142.529293060303, 7], 'senior': [127.4434700012205, 7], 'educator': [122.56370735168449, 7], 'businessman': [127.0718078613279, 7], 'smile': [124.6689300537108, 7], 'portrait': [803.0149793624879, 14], 'school': [113.09699821472151, 7], 'casual': [96.5655078887938, 7], 'college': [93.8915634155272, 7], 'office': [121.36461067199708, 9], 'standing': [726.5951585769653, 14], 'mature': [91.1041593551636, 7], 'lifestyle': [93.20256900787341, 7], 'corporate': [90.18468570709251, 7], 'happiness': [86.94338989257841, 7], 'class': [85.76898288726832, 7], 'husband': [82.9885711669923, 7], 'adults': [80.43565368652331, 7], 'boy': [91.26119995117189, 7], 'father': [88.83746337890621, 7], 'computer': [125.80949783325181, 9], '20s': [83.34398174285892, 7], 'work': [82.3858528137209, 7], '60s': [79.1115188598631, 7], 'color': [77.8336505889891, 7], 'handsome': [77.52435493469251, 7], '30s': [80.771701812744, 7], 'job': [80.4814395904541, 7], 'elderly': [77.5308952331543, 7], 'mother': [82.7725429534911, 7], 'clinic': [66.9839248657226, 7], 'board': [72.3235626220704, 7], 'team': [81.51310634613019, 7], 'students': [77.9323644638063, 7], 'consultant': [74.9681949615479, 7], '40s': [79.8164587020874, 7], 'medical': [77.66980266571039, 7], 'executive': [78.5200567245483, 7], 'enrollee': [78.44041347503659, 7], 'wife': [69.19510173797595, 7], 'looking': [72.7522268295287, 7], 'friendly': [74.0623645782471, 7], 'indoor': [935.2258849143982, 16], 'confident': [77.3180646896361, 7], '50s': [65.59888839721681, 7], 'cheerful': [66.6151180267334, 7], 'trainer': [62.90837764739989, 7], 'mid adult': [70.41965103149408, 7], 'busy': [71.31409454345707, 7], 'businesspeople': [70.18800544738757, 7], 'doctor': [66.72536849975589, 7], 'camera': [61.882556915283196, 7], 'inside': [67.17012691497814, 7], 'buddy': [56.426136493682854, 7], 'laptop': [74.69018268585197, 7], 'modern': [83.39403533935545, 9], 'businesswoman': [67.22991752624509, 7], 'child': [69.64697742462158, 7], 'hospital': [65.84552574157713, 7], 'two people': [67.04679679870604, 7], 'career': [55.83148717880249, 7], 'meeting': [63.09897041320801, 7], 'friends': [58.22838258743286, 7], 'communication': [82.30045413970947, 9], 'teamwork': [64.89404773712148, 7], 'clothing': [56.031998634338365, 7], 'building': [24.693866729736328, 3], 'interior': [74.29836177825929, 9], 'women': [58.51320028305055, 7], 'sixties': [23.53572034835814, 3], 'black': [52.27060222625733, 7], 'teaching': [54.54223251342773, 7], 'dad': [55.14458990097047, 7], 'employee': [22.94623088836671, 3], 'university': [53.9667191505432, 7], 'clothes': [29.95496273040771, 4], 'holding': [22.27509784698486, 3], 'bright': [21.443387031555183, 3], 'working': [53.008210659027085, 7], 'day': [28.237044811248786, 4], 'wear': [647.9889988899231, 7], 'facial expression': [644.337648153305, 7], 'music': [596.0955083370209, 7], 'administration': [606.5769970417023, 7], 'offense': [602.9788613319397, 7], 'election': [600.6345868110657, 7], 'recreation': [580.4630219936371, 7], 'musician': [584.619402885437, 7], 'interaction': [567.6474630832672, 7], 'three': [573.9237189292908, 7], 'two': [799.820981502533, 13], 'singer': [561.0823333263397, 7], 'ailment': [551.319146156311, 7], 'woman': [550.1798868179321, 7], 'wall': [911.1210277080536, 11], 'posing': [671.0477471351624, 7], 'sign': [447.19346261024475, 9], 'son': [31.65597820281984, 4], 'confidence': [22.97302579879761, 3], 'staff': [22.9517126083374, 3], 'desk': [31.16213655471801, 4], 'nurse': [29.85001611709594, 4], 'toilet tissue': [200, 2], 'tissue': [200, 2], 'paper': [163.23945617675793, 2], 'keyboard': [40.4047660827637, 2], 'key': [32.731218338012695, 2], 'close': [28.5511951446533, 2], 'keys': [24.372716903686502, 2], 'device': [28.1924085617066, 2], 'cord': [29.7352933883667, 2], 'object': [25.6652793884278, 2], 'plug': [28.321385383606, 2], 'power cord': [26.6309461593628, 2], 'clean': [22.5567407608032, 2], 'equipment': [23.700736045837402, 2], 'electrical': [23.0159711837768, 2], 'electricity': [222.85106563568107, 4], 'electric': [23.4284801483154, 2], 'connection': [218.10729360580444, 4], 'outlet': [220.234144449234, 4], 'button': [20.26342868804931, 2], 'towel': [21.379277229309118, 2], 'bathroom': [20.19189357757572, 2], 'socket': [216.69366908073425, 4], 'keypad': [17.52176094055175, 2], 'type': [18.21245288848877, 2], '3d': [22.47248172760013, 2], 'word': [16.04117822647094, 2], 'web': [16.96170139312744, 2], 'commerce': [16.81877613067627, 2], 'power': [204.16176748275757, 4], 'security': [8.26905536651611, 1], 'plastic': [210.92386031150818, 4], 'letter': [15.59890842437744, 2], 'bank': [8.06461429595947, 1], 'concepts': [16.893613815307617, 2], 'information': [15.0649938583374, 2], 'order': [7.73778390884399, 1], 'empty': [7.72991609573364, 1], 'hotel': [7.64081621170044, 1], 'finance': [7.60644483566284, 1], 'electronics': [204.3990786075592, 4], 'bath': [16.14556169509888, 2], 'hygiene': [16.08644104003906, 2], 'buttons': [15.10597276687622, 2], 'house': [17.55979728698726, 2], 'paper towel': [17.76770496368409, 2], 'row': [7.4543023109436, 1], 'symbol': [15.48848438262939, 2], 'safety': [7.3678035736084, 1], 'toilet': [17.39086151123048, 2], 'no person': [199.7936189174652, 2], 'voltage': [198.95829558372498, 2], 'one': [196.86316847801208, 2], 'stopper': [195.84628343582153, 2], 'wire': [194.77333426475525, 2], 'still life': [193.7773048877716, 2], 'access': [189.90027904510498, 2], 'furniture': [192.46962666511536, 2], 'jack': [180.0175428390503, 2], 'medicine': [7.04527378082275, 1], 'container': [9.54537391662598, 1], 'conductor': [9.33627223968506, 1], 'supply': [8.68771076202393, 1], 'energy': [8.41331100463867, 1], 'box': [8.19509029388428, 1], 'danger': [8.19069862365723, 1], 'light': [8.02481079101562, 1], 'industry': [7.69073581695557, 1], 'network': [7.41925287246704, 1], 'metal': [7.24557447433472, 1], 'Charger': [1, 1]}\n",
            "{'technology': [281.0906071662902, 5], 'entertainment': [50, 1], 'classroom': [515.8803787231445, 8], 'room': [1280.8834154605865, 20], 'man': [1064.1947894096375, 16], 'male': [303.02445602417015, 8], 'adult': [1008.6054897308351, 16], 'teacher': [256.4691524505618, 8], 'smiling': [261.8114166259764, 8], 'happy': [244.31431198120097, 8], 'person': [1017.2234342098236, 16], 'people': [1006.9715387821199, 16], 'student': [224.94251060485863, 8], 'professional': [187.1858959197999, 8], 'group': [914.7121672630311, 16], 'men': [188.01298904418962, 8], 'together': [167.31094932556138, 8], 'couple': [166.3545551300047, 8], 'indoors': [357.54924368858326, 10], 'family': [347.968371152878, 10], 'business': [174.2790174484255, 10], 'home': [171.45768642425531, 10], 'education': [147.1490325927734, 8], 'sitting': [161.41774177551298, 8], 'senior': [146.1833686828611, 8], 'educator': [140.41588401794428, 8], 'businessman': [144.71948051452608, 8], 'smile': [141.7655105590819, 8], 'portrait': [918.0213820934297, 16], 'school': [129.235132217407, 8], 'casual': [110.9644994735716, 8], 'college': [108.1165571212767, 8], 'office': [135.3820095062256, 10], 'standing': [831.4051733016968, 16], 'mature': [104.1180810928345, 8], 'lifestyle': [106.20654106140121, 8], 'corporate': [103.06748485565211, 8], 'happiness': [99.47466659545931, 8], 'class': [98.29607963562043, 8], 'husband': [95.3880357742311, 8], 'adults': [92.73683261871321, 8], 'boy': [103.42917919158938, 8], 'father': [100.90324783325191, 8], 'computer': [137.8245191574095, 10], '20s': [95.24970149993902, 8], 'work': [94.1544466018679, 8], '60s': [90.8309097290037, 8], 'color': [89.5080432891844, 8], 'handsome': [89.10739707946792, 8], '30s': [92.3099460601805, 8], 'job': [91.9778299331665, 8], 'elderly': [89.01610946655269, 8], 'mother': [93.9384193420409, 8], 'clinic': [77.8559961318969, 8], 'board': [83.1713218688966, 8], 'team': [92.26220035552959, 8], 'students': [88.64775848388689, 8], 'consultant': [85.67742252349859, 8], '40s': [90.5231952667236, 8], 'medical': [88.26091003417959, 8], 'executive': [89.09785842895499, 8], 'enrollee': [88.9879121780395, 8], 'wife': [79.62080383300764, 8], 'looking': [83.1449394226073, 8], 'friendly': [84.1196670532227, 8], 'indoor': [1041.8448407649994, 18], 'confident': [87.3237752914427, 8], '50s': [75.38916683197023, 8], 'cheerful': [76.36308097839355, 8], 'trainer': [72.6026039123535, 8], 'mid adult': [80.06573104858393, 8], 'busy': [80.95067310333256, 8], 'businesspeople': [79.67229652404772, 8], 'doctor': [76.1228647232056, 8], 'camera': [71.118013381958, 8], 'inside': [76.37134170532238, 8], 'buddy': [65.62455415725708, 8], 'laptop': [83.79867935180656, 8], 'modern': [92.50170326232909, 10], 'businesswoman': [76.31457996368405, 8], 'child': [78.59309005737305, 8], 'hospital': [74.70643615722655, 8], 'two people': [75.79130172729491, 8], 'career': [64.34746599197388, 8], 'meeting': [71.57468795776367, 8], 'friends': [66.68064832687378, 8], 'communication': [90.69497299194336, 10], 'teamwork': [73.237956047058, 8], 'clothing': [64.29241657257079, 8], 'building': [32.92515563964844, 4], 'interior': [82.25576400756837, 10], 'women': [66.42035579681398, 8], 'sixties': [31.38096046447752, 4], 'black': [60.08028888702393, 8], 'teaching': [62.33320236206054, 8], 'dad': [62.92470169067384, 8], 'employee': [30.59497451782228, 4], 'university': [61.612466812133775, 8], 'clothes': [37.443634033203125, 5], 'holding': [29.70013046264648, 4], 'bright': [28.59118270874024, 4], 'working': [60.07547473907469, 8], 'day': [35.29614400863649, 5], 'wear': [740.2633130550385, 8], 'facial expression': [735.7357263565063, 8], 'music': [681.919527053833, 8], 'administration': [692.2542870044708, 8], 'offense': [688.4813904762268, 8], 'election': [686.094331741333, 8], 'recreation': [664.2979979515076, 8], 'musician': [668.0956304073334, 8], 'interaction': [649.3240654468536, 8], 'three': [655.5327117443085, 8], 'two': [880.9087734222412, 14], 'singer': [641.4985597133636, 8], 'ailment': [629.2855322360992, 8], 'woman': [627.7033448219299, 8], 'wall': [1009.6804132461548, 12], 'posing': [766.4558529853821, 8], 'sign': [508.0035934448242, 10], 'son': [31.65597820281984, 4], 'confidence': [22.97302579879761, 3], 'staff': [22.9517126083374, 3], 'desk': [31.16213655471801, 4], 'nurse': [29.85001611709594, 4], 'toilet tissue': [200, 2], 'tissue': [200, 2], 'paper': [163.23945617675793, 2], 'keyboard': [40.4047660827637, 2], 'key': [32.731218338012695, 2], 'close': [28.5511951446533, 2], 'keys': [24.372716903686502, 2], 'device': [28.1924085617066, 2], 'cord': [29.7352933883667, 2], 'object': [25.6652793884278, 2], 'plug': [28.321385383606, 2], 'power cord': [26.6309461593628, 2], 'clean': [22.5567407608032, 2], 'equipment': [23.700736045837402, 2], 'electrical': [23.0159711837768, 2], 'electricity': [222.85106563568107, 4], 'electric': [23.4284801483154, 2], 'connection': [218.10729360580444, 4], 'outlet': [220.234144449234, 4], 'button': [20.26342868804931, 2], 'towel': [21.379277229309118, 2], 'bathroom': [20.19189357757572, 2], 'socket': [216.69366908073425, 4], 'keypad': [17.52176094055175, 2], 'type': [18.21245288848877, 2], '3d': [22.47248172760013, 2], 'word': [16.04117822647094, 2], 'web': [16.96170139312744, 2], 'commerce': [16.81877613067627, 2], 'power': [204.16176748275757, 4], 'security': [8.26905536651611, 1], 'plastic': [210.92386031150818, 4], 'letter': [15.59890842437744, 2], 'bank': [8.06461429595947, 1], 'concepts': [16.893613815307617, 2], 'information': [15.0649938583374, 2], 'order': [7.73778390884399, 1], 'empty': [7.72991609573364, 1], 'hotel': [7.64081621170044, 1], 'finance': [7.60644483566284, 1], 'electronics': [204.3990786075592, 4], 'bath': [16.14556169509888, 2], 'hygiene': [16.08644104003906, 2], 'buttons': [15.10597276687622, 2], 'house': [17.55979728698726, 2], 'paper towel': [17.76770496368409, 2], 'row': [7.4543023109436, 1], 'symbol': [15.48848438262939, 2], 'safety': [7.3678035736084, 1], 'toilet': [17.39086151123048, 2], 'no person': [199.7936189174652, 2], 'voltage': [198.95829558372498, 2], 'one': [196.86316847801208, 2], 'stopper': [195.84628343582153, 2], 'wire': [194.77333426475525, 2], 'still life': [193.7773048877716, 2], 'access': [189.90027904510498, 2], 'furniture': [192.46962666511536, 2], 'jack': [180.0175428390503, 2], 'medicine': [7.04527378082275, 1], 'container': [9.54537391662598, 1], 'conductor': [9.33627223968506, 1], 'supply': [8.68771076202393, 1], 'energy': [8.41331100463867, 1], 'box': [8.19509029388428, 1], 'danger': [8.19069862365723, 1], 'light': [8.02481079101562, 1], 'industry': [7.69073581695557, 1], 'network': [7.41925287246704, 1], 'metal': [7.24557447433472, 1], 'Charger': [1, 1]}\n"
          ],
          "name": "stdout"
        },
        {
          "output_type": "stream",
          "text": [
            "/usr/local/lib/python3.6/dist-packages/gensim/matutils.py:737: FutureWarning: Conversion of the second argument of issubdtype from `int` to `np.signedinteger` is deprecated. In future, it will be treated as `np.int64 == np.dtype(int).type`.\n",
            "  if np.issubdtype(vec.dtype, np.int):\n"
          ],
          "name": "stderr"
        }
      ]
    },
    {
      "metadata": {
        "id": "-81TCsCb4TQF",
        "colab_type": "code",
        "colab": {
          "base_uri": "https://localhost:8080/",
          "height": 69
        },
        "outputId": "4bfbb731-21b5-4426-8327-8f30462f3a9a"
      },
      "cell_type": "code",
      "source": [
        "scores = []\n",
        "print(len(adScore[0][0]))\n",
        "\n",
        "for score in adScore:\n",
        "  scores.append(sum(map(sum,score)))\n",
        "  \n",
        "print(scores)\n",
        "  \n",
        "print(advts[scores.index(max(scores))][\"name\"])"
      ],
      "execution_count": 67,
      "outputs": [
        {
          "output_type": "stream",
          "text": [
            "5\n",
            "[4437.52374566133, 4678.579950154855]\n",
            "Navneet\n"
          ],
          "name": "stdout"
        }
      ]
    },
    {
      "metadata": {
        "id": "OVAIEG9G6Wja",
        "colab_type": "code",
        "colab": {
          "base_uri": "https://localhost:8080/",
          "height": 34
        },
        "outputId": "b5da8682-abdd-4f58-aaef-af873e1947a3"
      },
      "cell_type": "code",
      "source": [
        "print(len(results))"
      ],
      "execution_count": 27,
      "outputs": [
        {
          "output_type": "stream",
          "text": [
            "120\n"
          ],
          "name": "stdout"
        }
      ]
    },
    {
      "metadata": {
        "id": "WIDoK6bYF7Vf",
        "colab_type": "code",
        "colab": {
          "base_uri": "https://localhost:8080/",
          "height": 52
        },
        "outputId": "4d2014f5-4677-473b-b2c0-41daf8965c97"
      },
      "cell_type": "code",
      "source": [
        "ls"
      ],
      "execution_count": 63,
      "outputs": [
        {
          "output_type": "stream",
          "text": [
            "ads.json            \u001b[0m\u001b[01;34msample_data\u001b[0m/   wiki.en.bin  wiki.en.zip\n",
            "advertisement.json  userData.json  wiki.en.vec\n"
          ],
          "name": "stdout"
        }
      ]
    }
  ]
}